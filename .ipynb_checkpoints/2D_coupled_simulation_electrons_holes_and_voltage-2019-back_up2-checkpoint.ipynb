{
 "cells": [
  {
   "cell_type": "code",
   "execution_count": 1,
   "metadata": {},
   "outputs": [],
   "source": [
    "from fenics import *\n",
    "from mshr import *\n",
    "from dolfin import *\n",
    "import matplotlib.pyplot as plt\n",
    "import imp\n",
    "import inspect\n",
    "\n",
    "from ISHE_constants_Bi2Se3_variable import *\n",
    "# imp.reload(ISHE_constants_Bi2Se3_variable)"
   ]
  },
  {
   "cell_type": "code",
   "execution_count": 2,
   "metadata": {},
   "outputs": [
    {
     "name": "stdout",
     "output_type": "stream",
     "text": [
      "N_A_bar=0.0\n",
      "n_i_bar=0.0053209882735709485\n",
      "sigma_bar=0.02\n",
      "alpha_bar=0.1\n",
      "D_n_bar=4.2936328125000015e-07\n",
      "D_p_bar=4.2936328125000015e-07\n",
      "t_pn_bar=6.026365348399247e+30\n",
      "t_pp_bar=6.026365348399247e+30\n",
      "G0n_bar=2.219671561631999e-10\n",
      "G0p_bar=2.219671561631999e-10\n",
      "V_scale_factor=1.6593750000000004e-05\n",
      "Vbh_l_bar=-4.978125000000001e-06\n",
      "Vbh_r_bar=-4.978125000000001e-06\n",
      "V_SD_bar=0.0\n"
     ]
    }
   ],
   "source": [
    "from ISHE_constants_Bi2Se3_variable import *\n",
    "print(f\"{N_A_bar=}\")\n",
    "print(f\"{n_i_bar=}\")\n",
    "print(f\"{sigma_bar=}\")\n",
    "print(f\"{alpha_bar=}\")\n",
    "print(f\"{D_n_bar=}\")\n",
    "print(f\"{D_p_bar=}\")\n",
    "print(f\"{t_pn_bar=}\")\n",
    "print(f\"{t_pp_bar=}\")\n",
    "print(f\"{G0n_bar=}\")\n",
    "print(f\"{G0p_bar=}\")\n",
    "print(f\"{V_scale_factor=}\")\n",
    "print(f\"{Vbh_l_bar=}\")\n",
    "print(f\"{Vbh_r_bar=}\")\n",
    "print(f\"{V_SD_bar=}\")"
   ]
  },
  {
   "cell_type": "code",
   "execution_count": 3,
   "metadata": {},
   "outputs": [],
   "source": [
    "# Read mesh from file\n",
    "rectangle = Rectangle(Point(0, 0), Point(1.0, 1.0))\n",
    "mesh = generate_mesh(rectangle, 500)\n",
    "# mesh = UnitSquareMesh(50, 50)"
   ]
  },
  {
   "cell_type": "code",
   "execution_count": 4,
   "metadata": {},
   "outputs": [],
   "source": [
    "# Define function space for system of concentrations\n",
    "P1 = FiniteElement(\"P\", triangle, 1)\n",
    "element = MixedElement([P1, P1, P1])\n",
    "V_space = FunctionSpace(mesh, element)"
   ]
  },
  {
   "cell_type": "code",
   "execution_count": 5,
   "metadata": {},
   "outputs": [],
   "source": [
    "# Define test functions\n",
    "v_1, v_2, v_3 = TestFunctions(V_space)"
   ]
  },
  {
   "cell_type": "code",
   "execution_count": 6,
   "metadata": {},
   "outputs": [],
   "source": [
    "# Define functions for f amd g\n",
    "u = Function(V_space)\n",
    "\n",
    "# Split system functions to access components\n",
    "n_bar, p_bar, V_bar = split(u)\n",
    "# f, g, h = split(u)"
   ]
  },
  {
   "cell_type": "code",
   "execution_count": 7,
   "metadata": {},
   "outputs": [],
   "source": [
    "# Define boundaries\n",
    "# top     = f'near(x[1], {height})'\n",
    "# bottom  = 'near(x[1], 0.0)'\n",
    "right   = f'near(x[0], 1.0)'\n",
    "left    = 'near(x[0], 0.0)'\n",
    "\n",
    "# Define boundary conditions\n",
    "\"\"\"\n",
    "Boundary Conditions For n\n",
    "\"\"\"\n",
    "bc_n_left_expr = Expression(\"n_i_bar * exp((Eg0_e/2 - Vbh_l)/kBT_e)\",\n",
    "                                   n_i_bar=n_i_bar, Eg0_e=Eg0_e, Vbh_l=Vbh_l, kBT_e=kBT_e,\n",
    "                                   degree=0)\n",
    "bc_n_right_expr = Expression(\"n_i_bar * exp((Eg0_e/2 - Vbh_r)/kBT_e)\", \\\n",
    "                                   n_i_bar=n_i_bar, Eg0_e=Eg0_e, Vbh_r=Vbh_r, kBT_e=kBT_e, \\\n",
    "                                   degree=0)\n",
    "# bc_n_top_expr = Expression(\"n_i * exp((Eg0_e/2 - Vbh_l)/kBT_e)\",\n",
    "#                                    n_i=n_i, Eg0_e=Eg0_e, Vbh_l=Vbh_l, kBT_e=kBT_e,\n",
    "#                                    degree=0)\n",
    "# bc_n_bottom_expr = Expression(\"n_i * exp((Eg0_e/2 - Vbh_r)/kBT_e)\", \\\n",
    "#                                    n_i=n_i, Eg0_e=Eg0_e, Vbh_r=Vbh_r, kBT_e=kBT_e, \\\n",
    "#                                   degree=0)\n",
    "bc_n_left   = DirichletBC(V_space.sub(0), bc_n_left_expr, left)\n",
    "bc_n_right  = DirichletBC(V_space.sub(0), bc_n_right_expr, right)\n",
    "# bc_n_top   = DirichletBC(V_space.sub(0), bc_n_top_expr, top)\n",
    "# bc_n_bottom  = DirichletBC(V_space.sub(0), bc_n_bottom_expr, bottom)\n",
    "\n",
    "\"\"\"\n",
    "Boundary Conditions For p\n",
    "\"\"\"\n",
    "# bc_p_left  = n_i * exp(-(Eg0_e/2 - Vbh_r) / kBT_e)\n",
    "# bc_p_right = n_i * exp(-(Eg0_e/2 - Vbh_l) / kBT_e)\n",
    "bc_p_left_expr = Expression(\"n_i_bar * exp(-(Eg0_e/2 - Vbh_l)/kBT_e)\", \\\n",
    "                                   n_i_bar=n_i_bar, Eg0_e=Eg0_e, Vbh_l=Vbh_l, kBT_e=kBT_e, degree=0)\n",
    "\n",
    "bc_p_right_expr = Expression(\"n_i_bar * exp(-(Eg0_e/2 - Vbh_r)/kBT_e)\", \\\n",
    "                                   n_i_bar=n_i_bar, Eg0_e=Eg0_e, Vbh_r=Vbh_r, kBT_e=kBT_e, degree=0)\n",
    "# bc_p_top_expr = Expression(\"n_i * exp(-(Eg0_e/2 - Vbh_l)/kBT_e)\", \\\n",
    "#                                    n_i=n_i, Eg0_e=Eg0_e, Vbh_l=Vbh_l, kBT_e=kBT_e, \\\n",
    "#                                    degree=0)\n",
    "\n",
    "# bc_p_bottom_expr = Expression(\"n_i * exp(-(Eg0_e/2 - Vbh_r)/kBT_e)\", \\\n",
    "#                                    n_i=n_i, Eg0_e=Eg0_e, Vbh_r=Vbh_r, kBT_e=kBT_e, \\\n",
    "#                                    degree=0)\n",
    "bc_p_left   = DirichletBC(V_space.sub(1), bc_p_left_expr, left)\n",
    "bc_p_right  = DirichletBC(V_space.sub(1), bc_p_right_expr, right)\n",
    "# bc_p_top   = DirichletBC(V_space.sub(1), bc_p_top_expr, top)\n",
    "# bc_p_bottom  = DirichletBC(V_space.sub(1), bc_p_bottom_expr, bottom)\n",
    "\n",
    "\n",
    "\"\"\"\n",
    "Boundary Conditions For V\n",
    "\"\"\"\n",
    "# bc_V_left  = -Vbh_l + V_SD\n",
    "# bc_V_right = -Vbh_r\n",
    "bc_V_left_expr  = Expression(\"-Vbh_l_bar + V_SD_bar\", Vbh_l_bar=Vbh_l_bar, V_SD_bar=V_SD_bar, degree=0)\n",
    "bc_V_right_expr = Expression(\"-Vbh_r_bar\", Vbh_r_bar=Vbh_r_bar, degree=0)\n",
    "# bc_V_top_expr  = Expression(\"-Vbh_l + V_SD\", Vbh_l=Vbh_l, V_SD=V_SD, degree=0)\n",
    "# bc_V_bottom_expr = Expression(\"-Vbh_r\", Vbh_r=Vbh_r, degree=0)\n",
    "\n",
    "\n",
    "bc_V_left   = DirichletBC(V_space.sub(2), bc_V_left_expr, left)\n",
    "bc_V_right  = DirichletBC(V_space.sub(2), bc_V_right_expr, right)\n",
    "# bc_V_top    = DirichletBC(V_space.sub(2), bc_V_top_expr, top)\n",
    "# bc_V_bottom = DirichletBC(V_space.sub(2), bc_V_bottom_expr, bottom)\n",
    "\n",
    "\n",
    "# bc_f = [bc_f_top, bc_f_bottom, bc_f_right, bc_f_left]\n",
    "# bc_g = [bc_g_top, bc_g_bottom, bc_g_right, bc_g_left]\n",
    "# bc_array = [bc_n_left, bc_n_right, bc_n_top, bc_n_bottom, \\\n",
    "#             bc_p_left, bc_p_right, bc_p_top, bc_p_bottom, \\\n",
    "#             bc_V_left, bc_V_right, bc_V_top, bc_V_bottom]\n",
    "bc_array = [bc_n_left, bc_n_right, \\\n",
    "            bc_p_left, bc_p_right, \\\n",
    "            bc_V_left, bc_V_right]"
   ]
  },
  {
   "cell_type": "code",
   "execution_count": 8,
   "metadata": {},
   "outputs": [],
   "source": [
    "J_n_bar = n_bar * -grad(V_bar) + Constant(D_n_bar) * grad(n_bar)\n",
    "J_p_bar = -(p_bar * grad(V_bar) + Constant(D_p_bar) * grad(p_bar))"
   ]
  },
  {
   "cell_type": "code",
   "execution_count": 9,
   "metadata": {},
   "outputs": [],
   "source": [
    "x0 = 5/a\n",
    "def setGeneration(P_L):\n",
    "    G0 = (P_L/hv)/(np.sqrt(2*np.pi)*sigma)  # unit: 1/(um*s)\n",
    "    G0 *= eps0 * epsr / (Az * mu_n * N_D**2 * e)\n",
    "    G = Expression(\"G0_bar * exp(-pow((x[0]-x0), 2)/(2*pow(sigma_bar,2)))\" +\n",
    "                   \"*exp(-alpha_bar*(1-x[1]))\",\\\n",
    "                    G0_bar=G0n_bar, x0=x0, sigma_bar=sigma_bar, alpha_bar=alpha_bar, degree=4)\n",
    "    return G"
   ]
  },
  {
   "cell_type": "code",
   "execution_count": 10,
   "metadata": {},
   "outputs": [
    {
     "data": {
      "text/plain": [
       "0.1"
      ]
     },
     "execution_count": 10,
     "metadata": {},
     "output_type": "execute_result"
    }
   ],
   "source": [
    "alpha_bar"
   ]
  },
  {
   "cell_type": "code",
   "execution_count": 11,
   "metadata": {},
   "outputs": [],
   "source": [
    "# G = G0/Az * np.exp(-(x-x0)^2/(2*sigma^2))*exp(-alpha*(1-y))\n",
    "\n",
    "G_bar = setGeneration(1e-9)\n",
    "R_n_bar = p_bar / Constant(t_pn_bar)\n",
    "R_p_bar = p_bar / Constant(t_pp_bar)"
   ]
  },
  {
   "cell_type": "code",
   "execution_count": 12,
   "metadata": {},
   "outputs": [],
   "source": [
    "n_vec = FacetNormal(mesh)\n",
    "# first line:    weak form of n part \n",
    "# second line:   weak form of p part\n",
    "# third line:    weak form of V boudnary part\n",
    "# fourth line:   weak form of V part\n",
    "F = dot(grad(v_1), J_n_bar) * dx - v_1 * (G_bar - R_n_bar) * dx + \\\n",
    "    dot(grad(v_2), J_p_bar) * dx + v_2 * (G_bar - R_p_bar) * dx + \\\n",
    "    -v_3 * dot(grad(V_bar), n_vec) * ds + \\\n",
    "    dot(grad(v_3), grad(V_bar)) * dx - v_3 * (p_bar - n_bar + Constant(1.0) - Constant(N_A_bar)) * dx # V part"
   ]
  },
  {
   "cell_type": "code",
   "execution_count": 13,
   "metadata": {},
   "outputs": [
    {
     "data": {
      "text/plain": [
       "(1, True)"
      ]
     },
     "execution_count": 13,
     "metadata": {},
     "output_type": "execute_result"
    }
   ],
   "source": [
    "J = derivative(F, u)\n",
    "problem = NonlinearVariationalProblem(F, u, bc_array, J )\n",
    "solver  = NonlinearVariationalSolver(problem)\n",
    "prm = solver.parameters\n",
    "\n",
    "prm[\"nonlinear_solver\"]=\"newton\"\n",
    "prm[\"newton_solver\"][\"linear_solver\"] = \"mumps\"\n",
    "prm['newton_solver']['maximum_iterations'] = 5000\n",
    "prm['newton_solver'][\"relative_tolerance\"] = 1e-2\n",
    "prm[\"newton_solver\"][\"absolute_tolerance\"]= 1e-2\n",
    "solver.solve()\n"
   ]
  },
  {
   "cell_type": "code",
   "execution_count": 17,
   "metadata": {},
   "outputs": [
    {
     "data": {
      "text/plain": [
       "Product(IntValue(2), Indexed(Coefficient(FunctionSpace(Mesh(VectorElement(FiniteElement('Lagrange', triangle, 1), dim=2), 3), MixedElement(FiniteElement('Lagrange', triangle, 1), FiniteElement('Lagrange', triangle, 1), FiniteElement('Lagrange', triangle, 1))), 14), MultiIndex((FixedIndex(0),))))"
      ]
     },
     "execution_count": 17,
     "metadata": {},
     "output_type": "execute_result"
    }
   ],
   "source": []
  },
  {
   "cell_type": "code",
   "execution_count": 21,
   "metadata": {},
   "outputs": [],
   "source": [
    "n = n_bar * N_D\n",
    "p = p_bar * N_D\n",
    "V = V_bar * a**2 * e * N_D / (eps0 * 1e6 * epsr)"
   ]
  },
  {
   "cell_type": "code",
   "execution_count": 22,
   "metadata": {
    "scrolled": false
   },
   "outputs": [
    {
     "data": {
      "text/plain": [
       "<matplotlib.tri.tricontour.TriContourSet at 0x7fb33e5a2e50>"
      ]
     },
     "execution_count": 22,
     "metadata": {},
     "output_type": "execute_result"
    },
    {
     "data": {
      "image/png": "[encoded data removed]",
      "text/plain": [
       "<Figure size 432x288 with 1 Axes>"
      ]
     },
     "metadata": {
      "needs_background": "light"
     },
     "output_type": "display_data"
    }
   ],
   "source": [
    "plot(n)"
   ]
  },
  {
   "cell_type": "code",
   "execution_count": 23,
   "metadata": {},
   "outputs": [
    {
     "data": {
      "text/plain": [
       "<matplotlib.tri.tricontour.TriContourSet at 0x7fb27e32ba00>"
      ]
     },
     "execution_count": 23,
     "metadata": {},
     "output_type": "execute_result"
    },
    {
     "data": {
      "image/png": "[encoded data removed]",
      "text/plain": [
       "<Figure size 432x288 with 1 Axes>"
      ]
     },
     "metadata": {
      "needs_background": "light"
     },
     "output_type": "display_data"
    }
   ],
   "source": [
    "plot(p)"
   ]
  },
  {
   "cell_type": "code",
   "execution_count": 24,
   "metadata": {},
   "outputs": [
    {
     "data": {
      "text/plain": [
       "<matplotlib.tri.tricontour.TriContourSet at 0x7fb25e26aeb0>"
      ]
     },
     "execution_count": 24,
     "metadata": {},
     "output_type": "execute_result"
    },
    {
     "data": {
      "image/png": "[encoded data removed]",
      "text/plain": [
       "<Figure size 432x288 with 1 Axes>"
      ]
     },
     "metadata": {
      "needs_background": "light"
     },
     "output_type": "display_data"
    }
   ],
   "source": [
    "plot(V)"
   ]
  },
  {
   "cell_type": "code",
   "execution_count": 26,
   "metadata": {},
   "outputs": [
    {
     "ename": "AttributeError",
     "evalue": "'Indexed' object has no attribute '_cpp_object'",
     "output_type": "error",
     "traceback": [
      "\u001b[0;31m---------------------------------------------------------------------------\u001b[0m",
      "\u001b[0;31mAttributeError\u001b[0m                            Traceback (most recent call last)",
      "\u001b[0;32m<ipython-input-26-db0c2f3c617c>\u001b[0m in \u001b[0;36m<module>\u001b[0;34m\u001b[0m\n\u001b[1;32m      1\u001b[0m \u001b[0mvtkfile_n\u001b[0m \u001b[0;34m=\u001b[0m \u001b[0mFile\u001b[0m\u001b[0;34m(\u001b[0m\u001b[0;34m\"simulation/n.pvd\"\u001b[0m\u001b[0;34m)\u001b[0m\u001b[0;34m\u001b[0m\u001b[0;34m\u001b[0m\u001b[0m\n\u001b[0;32m----> 2\u001b[0;31m \u001b[0mvtkfile_n\u001b[0m \u001b[0;34m<<\u001b[0m \u001b[0mn_bar\u001b[0m\u001b[0;34m\u001b[0m\u001b[0;34m\u001b[0m\u001b[0m\n\u001b[0m\u001b[1;32m      3\u001b[0m \u001b[0;34m\u001b[0m\u001b[0m\n\u001b[1;32m      4\u001b[0m \u001b[0mvtkfile_p\u001b[0m \u001b[0;34m=\u001b[0m \u001b[0mFile\u001b[0m\u001b[0;34m(\u001b[0m\u001b[0;34m\"simulation/p.pvd\"\u001b[0m\u001b[0;34m)\u001b[0m\u001b[0;34m\u001b[0m\u001b[0;34m\u001b[0m\u001b[0m\n\u001b[1;32m      5\u001b[0m \u001b[0mvtkfile_p\u001b[0m \u001b[0;34m<<\u001b[0m \u001b[0mp_bar\u001b[0m\u001b[0;34m\u001b[0m\u001b[0;34m\u001b[0m\u001b[0m\n",
      "\u001b[0;32m~/anaconda3/envs/fenics2019/lib/python3.8/site-packages/dolfin/io/__init__.py\u001b[0m in \u001b[0;36m__lshift__\u001b[0;34m(self, u)\u001b[0m\n\u001b[1;32m     19\u001b[0m             \u001b[0mself\u001b[0m\u001b[0;34m.\u001b[0m\u001b[0mwrite\u001b[0m\u001b[0;34m(\u001b[0m\u001b[0mu\u001b[0m\u001b[0;34m[\u001b[0m\u001b[0;36m0\u001b[0m\u001b[0;34m]\u001b[0m\u001b[0;34m,\u001b[0m \u001b[0mu\u001b[0m\u001b[0;34m[\u001b[0m\u001b[0;36m1\u001b[0m\u001b[0;34m]\u001b[0m\u001b[0;34m)\u001b[0m\u001b[0;34m\u001b[0m\u001b[0;34m\u001b[0m\u001b[0m\n\u001b[1;32m     20\u001b[0m     \u001b[0;32melse\u001b[0m\u001b[0;34m:\u001b[0m\u001b[0;34m\u001b[0m\u001b[0;34m\u001b[0m\u001b[0m\n\u001b[0;32m---> 21\u001b[0;31m         \u001b[0mself\u001b[0m\u001b[0;34m.\u001b[0m\u001b[0mwrite\u001b[0m\u001b[0;34m(\u001b[0m\u001b[0mu\u001b[0m\u001b[0;34m)\u001b[0m\u001b[0;34m\u001b[0m\u001b[0;34m\u001b[0m\u001b[0m\n\u001b[0m\u001b[1;32m     22\u001b[0m \u001b[0;34m\u001b[0m\u001b[0m\n\u001b[1;32m     23\u001b[0m \u001b[0;34m\u001b[0m\u001b[0m\n",
      "\u001b[0;31mAttributeError\u001b[0m: 'Indexed' object has no attribute '_cpp_object'"
     ]
    }
   ],
   "source": [
    "vtkfile_n = File(\"simulation/n.pvd\")\n",
    "vtkfile_n << n\n",
    "\n",
    "vtkfile_p = File(\"simulation/p.pvd\")\n",
    "vtkfile_p << p\n",
    "\n",
    "vtkfile_V = File(\"simulation/V.pvd\")\n",
    "vtkfile_V << V\n",
    "\n"
   ]
  },
  {
   "cell_type": "code",
   "execution_count": null,
   "metadata": {},
   "outputs": [],
   "source": []
  }
 ],
 "metadata": {
  "kernelspec": {
   "display_name": "fenics2019",
   "language": "python",
   "name": "fenics2019"
  },
  "language_info": {
   "codemirror_mode": {
    "name": "ipython",
    "version": 3
   },
   "file_extension": ".py",
   "mimetype": "text/x-python",
   "name": "python",
   "nbconvert_exporter": "python",
   "pygments_lexer": "ipython3",
   "version": "3.8.8"
  }
 },
 "nbformat": 4,
 "nbformat_minor": 4
}
