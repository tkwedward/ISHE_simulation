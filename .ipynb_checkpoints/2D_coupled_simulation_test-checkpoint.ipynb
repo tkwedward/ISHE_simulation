{
 "cells": [
  {
   "cell_type": "code",
   "execution_count": 1,
   "metadata": {},
   "outputs": [],
   "source": [
    "from fenics import *"
   ]
  },
  {
   "cell_type": "code",
   "execution_count": 2,
   "metadata": {},
   "outputs": [],
   "source": [
    "# Read mesh from file\n",
    "mesh = UnitSquareMesh(8, 8)\n",
    "\n",
    "# Define function space for velocity\n",
    "W = VectorFunctionSpace(mesh, \"P\", 2)"
   ]
  },
  {
   "cell_type": "code",
   "execution_count": 3,
   "metadata": {},
   "outputs": [],
   "source": [
    "# Define function space for system of concentrations\n",
    "P1 = FiniteElement(\"P\", triangle, 1)\n",
    "element = MixedElement([P1, P1])\n",
    "V = FunctionSpace(mesh, element)"
   ]
  },
  {
   "cell_type": "code",
   "execution_count": 4,
   "metadata": {},
   "outputs": [],
   "source": [
    "# Define test functions\n",
    "v_1, v_2 = TestFunctions(V)"
   ]
  },
  {
   "cell_type": "code",
   "execution_count": 5,
   "metadata": {},
   "outputs": [],
   "source": [
    "# Define functions for f amd g\n",
    "u = Function(V)\n",
    "\n",
    "# Split system functions to access components\n",
    "f, g = split(u)"
   ]
  },
  {
   "cell_type": "code",
   "execution_count": 6,
   "metadata": {},
   "outputs": [],
   "source": [
    "# Define boundaries\n",
    "top     = 'near(x[1], 1.0)'\n",
    "bottom  = 'near(x[1], 0.0)'\n",
    "right   = 'near(x[0], 0.0)'\n",
    "left    = 'near(x[0], 1.0)'\n",
    "\n",
    "# Define boundary conditions\n",
    "bc_f_top    = DirichletBC(V.sub(0), Expression(\"pow(x[0], 2)\", degree=2), top)\n",
    "bc_f_bottom = DirichletBC(V.sub(0), Constant(0.0), bottom)\n",
    "bc_f_right  = DirichletBC(V.sub(0), Expression(\"x[1]\", degree=1), right)\n",
    "bc_f_left   = DirichletBC(V.sub(0), Constant(0.0), left)\n",
    "\n",
    "bc_g_top    = DirichletBC(V.sub(1), Expression(\"pow(x[0], 2)+1\", degree=2), top)\n",
    "bc_g_bottom = DirichletBC(V.sub(1), Expression(\"pow(x[0], 2)\", degree=2), bottom)\n",
    "bc_g_right  = DirichletBC(V.sub(1), Expression(\"pow(x[1], 2)+1\", degree=2), right)\n",
    "bc_g_left   = DirichletBC(V.sub(1), Expression(\"pow(x[1], 2)\", degree=2), left)\n",
    "\n",
    "# bc_f = [bc_f_top, bc_f_bottom, bc_f_right, bc_f_left]\n",
    "# bc_g = [bc_g_top, bc_g_bottom, bc_g_right, bc_g_left]\n",
    "bc_f = [bc_f_top, bc_f_bottom, bc_f_right, bc_f_left, bc_g_top, bc_g_bottom, bc_g_right, bc_g_left]\n"
   ]
  },
  {
   "cell_type": "code",
   "execution_count": 7,
   "metadata": {},
   "outputs": [],
   "source": [
    "# Define source terms\n",
    "s_1 = Expression(\"2*x[1] + pow(x[0], 2) + pow(x[1], 2)\", degree=2)\n",
    "s_2 = Expression(\"4 - pow(x[0], 2) * x[1]\", degree=3)"
   ]
  },
  {
   "cell_type": "code",
   "execution_count": 8,
   "metadata": {},
   "outputs": [
    {
     "name": "stdout",
     "output_type": "stream",
     "text": [
      "Form has no parts with arity 2.\n"
     ]
    }
   ],
   "source": [
    "# Define variational problem\n",
    "F = dot(grad(v_1), grad(f)) * dx + dot(grad(v_2), grad(g)) * dx - v_1 * (g - s_1) * dx - v_2 * (-f - s_2) *dx\n",
    "a = lhs(F)\n",
    "L = rhs(F)"
   ]
  },
  {
   "cell_type": "code",
   "execution_count": 9,
   "metadata": {},
   "outputs": [],
   "source": [
    "A1 = assemble(a)\n",
    "b1 = assemble(L)"
   ]
  },
  {
   "cell_type": "code",
   "execution_count": 11,
   "metadata": {},
   "outputs": [
    {
     "data": {
      "text/plain": [
       "[None, None, None, None]"
      ]
     },
     "execution_count": 11,
     "metadata": {},
     "output_type": "execute_result"
    }
   ],
   "source": [
    "[bc.apply(b1) for bc in bc_f]\n",
    "[bc.apply(b1) for bc in bc_g]"
   ]
  },
  {
   "cell_type": "code",
   "execution_count": null,
   "metadata": {},
   "outputs": [],
   "source": [
    "solve(A1, )"
   ]
  },
  {
   "cell_type": "code",
   "execution_count": 12,
   "metadata": {},
   "outputs": [
    {
     "name": "stdout",
     "output_type": "stream",
     "text": [
      "Calling FFC just-in-time (JIT) compiler, this may take some time.\n",
      "Calling FFC just-in-time (JIT) compiler, this may take some time.\n"
     ]
    },
    {
     "name": "stderr",
     "output_type": "stream",
     "text": [
      "/Users/edwardtang/anaconda3/envs/fenics2018/lib/python3.7/site-packages/ffc/uflacs/analysis/dependencies.py:61: FutureWarning: Using a non-tuple sequence for multidimensional indexing is deprecated; use `arr[tuple(seq)]` instead of `arr[seq]`. In the future this will be interpreted as an array index, `arr[np.array(seq)]`, which will result either in an error or a different result.\n",
      "  active[targets] = 1\n"
     ]
    },
    {
     "name": "stdout",
     "output_type": "stream",
     "text": [
      "Calling FFC just-in-time (JIT) compiler, this may take some time.\n",
      "Calling FFC just-in-time (JIT) compiler, this may take some time.\n"
     ]
    },
    {
     "name": "stderr",
     "output_type": "stream",
     "text": [
      "/Users/edwardtang/anaconda3/envs/fenics2018/lib/python3.7/site-packages/ffc/uflacs/analysis/dependencies.py:61: FutureWarning: Using a non-tuple sequence for multidimensional indexing is deprecated; use `arr[tuple(seq)]` instead of `arr[seq]`. In the future this will be interpreted as an array index, `arr[np.array(seq)]`, which will result either in an error or a different result.\n",
      "  active[targets] = 1\n"
     ]
    }
   ],
   "source": [
    "# Solve variational problem for time step\n",
    "solve(F == 0, u)\n",
    "\n",
    "# Save solution to file (VTK)\n",
    "_u_1, _u_2 = u.split()"
   ]
  },
  {
   "cell_type": "code",
   "execution_count": 13,
   "metadata": {},
   "outputs": [
    {
     "data": {
      "text/plain": [
       "<matplotlib.tri.tricontour.TriContourSet at 0x7f85a78656d0>"
      ]
     },
     "execution_count": 13,
     "metadata": {},
     "output_type": "execute_result"
    },
    {
     "data": {
      "image/png": "[encoded data removed]",
      "text/plain": [
       "<Figure size 432x288 with 1 Axes>"
      ]
     },
     "metadata": {
      "needs_background": "light"
     },
     "output_type": "display_data"
    }
   ],
   "source": [
    "# Hold plot\n",
    "plot(_u_1)"
   ]
  },
  {
   "cell_type": "code",
   "execution_count": 14,
   "metadata": {},
   "outputs": [
    {
     "data": {
      "text/plain": [
       "<matplotlib.tri.tricontour.TriContourSet at 0x7f85a785fa10>"
      ]
     },
     "execution_count": 14,
     "metadata": {},
     "output_type": "execute_result"
    },
    {
     "data": {
      "image/png": "[encoded data removed]",
      "text/plain": [
       "<Figure size 432x288 with 1 Axes>"
      ]
     },
     "metadata": {
      "needs_background": "light"
     },
     "output_type": "display_data"
    }
   ],
   "source": [
    "plot(_u_2)"
   ]
  },
  {
   "cell_type": "code",
   "execution_count": 15,
   "metadata": {},
   "outputs": [
    {
     "ename": "AttributeError",
     "evalue": "'Indexed' object has no attribute 'vector'",
     "output_type": "error",
     "traceback": [
      "\u001b[0;31m---------------------------------------------------------------------------\u001b[0m",
      "\u001b[0;31mAttributeError\u001b[0m                            Traceback (most recent call last)",
      "\u001b[0;32m<ipython-input-15-5883a00719a9>\u001b[0m in \u001b[0;36m<module>\u001b[0;34m\u001b[0m\n\u001b[0;32m----> 1\u001b[0;31m \u001b[0mu_1\u001b[0m\u001b[0;34m.\u001b[0m\u001b[0mvector\u001b[0m\u001b[0;34m\u001b[0m\u001b[0;34m\u001b[0m\u001b[0m\n\u001b[0m",
      "\u001b[0;31mAttributeError\u001b[0m: 'Indexed' object has no attribute 'vector'"
     ]
    }
   ],
   "source": []
  },
  {
   "cell_type": "code",
   "execution_count": null,
   "metadata": {},
   "outputs": [],
   "source": []
  }
 ],
 "metadata": {
  "kernelspec": {
   "display_name": "firstEnv",
   "language": "python",
   "name": "firstenv"
  },
  "language_info": {
   "codemirror_mode": {
    "name": "ipython",
    "version": 3
   },
   "file_extension": ".py",
   "mimetype": "text/x-python",
   "name": "python",
   "nbconvert_exporter": "python",
   "pygments_lexer": "ipython3",
   "version": "3.7.9"
  }
 },
 "nbformat": 4,
 "nbformat_minor": 4
}
