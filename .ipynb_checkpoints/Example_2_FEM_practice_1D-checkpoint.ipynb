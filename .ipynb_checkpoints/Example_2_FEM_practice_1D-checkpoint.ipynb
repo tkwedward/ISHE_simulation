{
 "cells": [
  {
   "cell_type": "code",
   "execution_count": 1,
   "metadata": {},
   "outputs": [],
   "source": [
    "# example of 1D simulation with DBC and NBC\n",
    "from fenics import *\n",
    "import numpy as np"
   ]
  },
  {
   "cell_type": "code",
   "execution_count": 2,
   "metadata": {},
   "outputs": [],
   "source": [
    "# Create mesh and define function space\n",
    "# IntervalMesh(nx, a, b)\n",
    "# nx (int) The number of cells, a (float) The minimum point (inclusive), b (float) The maximum point (inclusive).\n",
    "mesh = IntervalMesh(300, 0, 1)\n"
   ]
  },
  {
   "cell_type": "code",
   "execution_count": 12,
   "metadata": {},
   "outputs": [],
   "source": [
    "V = FunctionSpace(mesh, \"P\", 2)\n",
    "# u_D = Expression(\"pow(x[0], 3)/6 + pow(x[0], 2)/2 + x[0]/3\", degree=2)\n",
    "f = Constant(0)"
   ]
  },
  {
   "cell_type": "code",
   "execution_count": 13,
   "metadata": {},
   "outputs": [],
   "source": [
    "# Define boundary condition\n",
    "u_R = Constant(0)\n",
    "tol = 1E-14\n",
    "def boundary_D(x, on_boundary):\n",
    "    if on_boundary:\n",
    "        if near(x[0], 2, tol):\n",
    "            return True\n",
    "        else:\n",
    "            return False\n",
    "    else:\n",
    "         return False\n",
    "\n",
    "bc_R = DirichletBC(V, u_R, boundary_D)"
   ]
  },
  {
   "cell_type": "code",
   "execution_count": 14,
   "metadata": {},
   "outputs": [],
   "source": [
    "# Define variational problem\n",
    "u = TrialFunction(V)\n",
    "v = TestFunction(V)\n",
    "a = - dot(grad(v), grad(u))*dx\n",
    "L = v * f* dx"
   ]
  },
  {
   "cell_type": "code",
   "execution_count": 15,
   "metadata": {},
   "outputs": [],
   "source": [
    "# Compute solution\n",
    "u = Function(V)\n",
    "solve(a == L, u, bc_R)"
   ]
  },
  {
   "cell_type": "code",
   "execution_count": 16,
   "metadata": {},
   "outputs": [
    {
     "data": {
      "text/plain": [
       "[<matplotlib.lines.Line2D at 0x7ff9ea6d5450>]"
      ]
     },
     "execution_count": 16,
     "metadata": {},
     "output_type": "execute_result"
    },
    {
     "data": {
      "image/png": "[encoded data removed]",
      "text/plain": [
       "<Figure size 432x288 with 1 Axes>"
      ]
     },
     "metadata": {
      "needs_background": "light"
     },
     "output_type": "display_data"
    }
   ],
   "source": [
    "plot(u)\n",
    "plot(mesh)"
   ]
  },
  {
   "cell_type": "code",
   "execution_count": null,
   "metadata": {},
   "outputs": [],
   "source": []
  }
 ],
 "metadata": {
  "kernelspec": {
   "display_name": "firstEnv",
   "language": "python",
   "name": "firstenv"
  },
  "language_info": {
   "codemirror_mode": {
    "name": "ipython",
    "version": 3
   },
   "file_extension": ".py",
   "mimetype": "text/x-python",
   "name": "python",
   "nbconvert_exporter": "python",
   "pygments_lexer": "ipython3",
   "version": "3.7.9"
  }
 },
 "nbformat": 4,
 "nbformat_minor": 4
}
