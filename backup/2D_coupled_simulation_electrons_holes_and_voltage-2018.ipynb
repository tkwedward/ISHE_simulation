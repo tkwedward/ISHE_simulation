{
 "cells": [
  {
   "cell_type": "code",
   "execution_count": 1,
   "metadata": {},
   "outputs": [],
   "source": [
    "from fenics import *\n",
    "from mshr import *\n",
    "from dolfin import *\n",
    "import matplotlib.pyplot as plt\n",
    "from ISHE_constants_Bi2Se3_variable import *"
   ]
  },
  {
   "cell_type": "code",
   "execution_count": 2,
   "metadata": {},
   "outputs": [],
   "source": [
    "import fenics"
   ]
  },
  {
   "cell_type": "code",
   "execution_count": 3,
   "metadata": {},
   "outputs": [],
   "source": [
    "set_log_level(20)"
   ]
  },
  {
   "cell_type": "code",
   "execution_count": 4,
   "metadata": {},
   "outputs": [],
   "source": [
    "width = 100.0\n",
    "height = 5.0"
   ]
  },
  {
   "cell_type": "code",
   "execution_count": 5,
   "metadata": {},
   "outputs": [],
   "source": [
    "# Read mesh from file\n",
    "rectangle = Rectangle(Point(0, 0), Point(100.0, 5.0))\n",
    "mesh = generate_mesh(rectangle, 500)\n",
    "# mesh = UnitSquareMesh(50, 50)"
   ]
  },
  {
   "cell_type": "code",
   "execution_count": null,
   "metadata": {},
   "outputs": [],
   "source": []
  },
  {
   "cell_type": "code",
   "execution_count": 6,
   "metadata": {},
   "outputs": [
    {
     "data": {
      "text/plain": [
       "[<matplotlib.lines.Line2D at 0x7feef6039c70>,\n",
       " <matplotlib.lines.Line2D at 0x7feef604d040>]"
      ]
     },
     "execution_count": 6,
     "metadata": {},
     "output_type": "execute_result"
    },
    {
     "data": {
      "image/png": "[encoded data removed]",
      "text/plain": [
       "<Figure size 432x288 with 1 Axes>"
      ]
     },
     "metadata": {
      "needs_background": "light"
     },
     "output_type": "display_data"
    }
   ],
   "source": [
    "plot(mesh)"
   ]
  },
  {
   "cell_type": "code",
   "execution_count": 7,
   "metadata": {},
   "outputs": [],
   "source": [
    "# Define function space for system of concentrations\n",
    "P1 = FiniteElement(\"P\", triangle, 1)\n",
    "element = MixedElement([P1, P1, P1])\n",
    "V_space = FunctionSpace(mesh, element)"
   ]
  },
  {
   "cell_type": "code",
   "execution_count": 8,
   "metadata": {},
   "outputs": [],
   "source": [
    "# Define test functions\n",
    "v_1, v_2, v_3 = TestFunctions(V_space)"
   ]
  },
  {
   "cell_type": "code",
   "execution_count": 9,
   "metadata": {},
   "outputs": [],
   "source": [
    "# Define functions for f amd g\n",
    "u = Function(V_space)\n",
    "\n",
    "# Split system functions to access components\n",
    "n, p, V = split(u)\n",
    "# f, g, h = split(u)"
   ]
  },
  {
   "cell_type": "code",
   "execution_count": 10,
   "metadata": {},
   "outputs": [
    {
     "ename": "KeyError",
     "evalue": "'Must supply element or degree'",
     "output_type": "error",
     "traceback": [
      "\u001b[0;31m---------------------------------------------------------------------------\u001b[0m",
      "\u001b[0;31mKeyError\u001b[0m                                  Traceback (most recent call last)",
      "\u001b[0;32m<ipython-input-10-f038758217fd>\u001b[0m in \u001b[0;36m<module>\u001b[0;34m\u001b[0m\n\u001b[0;32m----> 1\u001b[0;31m \u001b[0mf\u001b[0m \u001b[0;34m=\u001b[0m \u001b[0mExpression\u001b[0m\u001b[0;34m(\u001b[0m\u001b[0;34m\"A*sin(x[0]) + B*cos(x[1])\"\u001b[0m\u001b[0;34m,\u001b[0m \u001b[0mA\u001b[0m\u001b[0;34m=\u001b[0m\u001b[0;36m2.0\u001b[0m\u001b[0;34m,\u001b[0m \u001b[0mB\u001b[0m\u001b[0;34m=\u001b[0m\u001b[0mConstant\u001b[0m\u001b[0;34m(\u001b[0m\u001b[0;36m4.0\u001b[0m\u001b[0;34m)\u001b[0m\u001b[0;34m)\u001b[0m\u001b[0;34m\u001b[0m\u001b[0;34m\u001b[0m\u001b[0m\n\u001b[0m",
      "\u001b[0;32m~/anaconda3/envs/fenics2019/lib/python3.8/site-packages/dolfin/function/expression.py\u001b[0m in \u001b[0;36m__init__\u001b[0;34m(self, cpp_code, *args, **kwargs)\u001b[0m\n\u001b[1;32m    407\u001b[0m         \u001b[0;32mif\u001b[0m \u001b[0melement\u001b[0m \u001b[0;32mis\u001b[0m \u001b[0;32mNone\u001b[0m\u001b[0;34m:\u001b[0m\u001b[0;34m\u001b[0m\u001b[0;34m\u001b[0m\u001b[0m\n\u001b[1;32m    408\u001b[0m             \u001b[0;32mif\u001b[0m \u001b[0mdegree\u001b[0m \u001b[0;32mis\u001b[0m \u001b[0;32mNone\u001b[0m\u001b[0;34m:\u001b[0m\u001b[0;34m\u001b[0m\u001b[0;34m\u001b[0m\u001b[0m\n\u001b[0;32m--> 409\u001b[0;31m                 \u001b[0;32mraise\u001b[0m \u001b[0mKeyError\u001b[0m\u001b[0;34m(\u001b[0m\u001b[0;34m\"Must supply element or degree\"\u001b[0m\u001b[0;34m)\u001b[0m\u001b[0;34m\u001b[0m\u001b[0;34m\u001b[0m\u001b[0m\n\u001b[0m\u001b[1;32m    410\u001b[0m             value_shape = tuple(self.value_dimension(i)\n\u001b[1;32m    411\u001b[0m                                 for i in range(self.value_rank()))\n",
      "\u001b[0;31mKeyError\u001b[0m: 'Must supply element or degree'"
     ]
    }
   ],
   "source": [
    "f = Expression(\"A*sin(x[0]) + B*cos(x[1])\", A=2.0, B=Constant(4.0))\n"
   ]
  },
  {
   "cell_type": "code",
   "execution_count": 35,
   "metadata": {
    "scrolled": true
   },
   "outputs": [
    {
     "name": "stderr",
     "output_type": "stream",
     "text": [
      "Compilation failed! Sources, command, and errors have been written to: /Users/edwardtang/Project/Physics_Simulation/ISHE/jitfailure-dolfin_expression_27727092dea5451ec1cc048a09fd904c\n"
     ]
    },
    {
     "ename": "RuntimeError",
     "evalue": "Unable to compile C++ code with dijitso",
     "output_type": "error",
     "traceback": [
      "\u001b[0;31m---------------------------------------------------------------------------\u001b[0m",
      "\u001b[0;31mAttributeError\u001b[0m                            Traceback (most recent call last)",
      "\u001b[0;32m~/anaconda3/envs/fenicsproject/lib/python3.9/site-packages/dolfin/jit/jit.py\u001b[0m in \u001b[0;36mcompile_class\u001b[0;34m(cpp_data, mpi_comm)\u001b[0m\n\u001b[1;32m    167\u001b[0m                                         mpi_comm=mpi_comm)\n\u001b[0;32m--> 168\u001b[0;31m         \u001b[0msubmodule\u001b[0m \u001b[0;34m=\u001b[0m \u001b[0mdijitso\u001b[0m\u001b[0;34m.\u001b[0m\u001b[0mextract_factory_function\u001b[0m\u001b[0;34m(\u001b[0m\u001b[0mmodule\u001b[0m\u001b[0;34m,\u001b[0m \u001b[0;34m\"create_\"\u001b[0m \u001b[0;34m+\u001b[0m \u001b[0mmodule_name\u001b[0m\u001b[0;34m)\u001b[0m\u001b[0;34m(\u001b[0m\u001b[0;34m)\u001b[0m\u001b[0;34m\u001b[0m\u001b[0;34m\u001b[0m\u001b[0m\n\u001b[0m\u001b[1;32m    169\u001b[0m     \u001b[0;32mexcept\u001b[0m \u001b[0mException\u001b[0m\u001b[0;34m:\u001b[0m\u001b[0;34m\u001b[0m\u001b[0;34m\u001b[0m\u001b[0m\n",
      "\u001b[0;32m~/anaconda3/envs/fenicsproject/lib/python3.9/site-packages/dijitso/jit.py\u001b[0m in \u001b[0;36mextract_factory_function\u001b[0;34m(lib, name)\u001b[0m\n\u001b[1;32m     42\u001b[0m     \u001b[0mAssuming\u001b[0m \u001b[0msignature\u001b[0m\u001b[0;31m \u001b[0m\u001b[0;31m`\u001b[0m\u001b[0;31m`\u001b[0m\u001b[0;34m(\u001b[0m\u001b[0mvoid\u001b[0m \u001b[0;34m*\u001b[0m\u001b[0;34m)\u001b[0m\u001b[0;34m(\u001b[0m\u001b[0;34m)\u001b[0m\u001b[0;31m`\u001b[0m\u001b[0;31m`\u001b[0m\u001b[0;34m,\u001b[0m \u001b[0;32mfor\u001b[0m \u001b[0manything\u001b[0m \u001b[0;32melse\u001b[0m \u001b[0muse\u001b[0m \u001b[0mlook\u001b[0m \u001b[0mat\u001b[0m\u001b[0;34m\u001b[0m\u001b[0;34m\u001b[0m\u001b[0m\n\u001b[0;32m---> 43\u001b[0;31m     \u001b[0mctypes\u001b[0m \u001b[0mdocumentation\u001b[0m\u001b[0;34m.\u001b[0m\u001b[0;34m\u001b[0m\u001b[0;34m\u001b[0m\u001b[0m\n\u001b[0m\u001b[1;32m     44\u001b[0m \u001b[0;34m\u001b[0m\u001b[0m\n",
      "\u001b[0;31mAttributeError\u001b[0m: 'NoneType' object has no attribute 'create_dolfin_expression_27727092dea5451ec1cc048a09fd904c'",
      "\nDuring handling of the above exception, another exception occurred:\n",
      "\u001b[0;31mRuntimeError\u001b[0m                              Traceback (most recent call last)",
      "\u001b[0;32m<ipython-input-35-12b89fe05d16>\u001b[0m in \u001b[0;36m<module>\u001b[0;34m\u001b[0m\n\u001b[0;32m----> 1\u001b[0;31m \u001b[0mbc_n_left_expr\u001b[0m \u001b[0;34m=\u001b[0m \u001b[0mExpression\u001b[0m\u001b[0;34m(\u001b[0m\u001b[0;34m\"n_i * exp((Eg0_e/2 - Vbh_l)/kBT_e)\"\u001b[0m\u001b[0;34m,\u001b[0m \u001b[0mn_i\u001b[0m\u001b[0;34m=\u001b[0m\u001b[0mn_i\u001b[0m\u001b[0;34m,\u001b[0m \u001b[0mEg0_e\u001b[0m\u001b[0;34m=\u001b[0m\u001b[0mEg0_e\u001b[0m\u001b[0;34m,\u001b[0m \u001b[0mVbh_l\u001b[0m\u001b[0;34m=\u001b[0m\u001b[0mVbh_l\u001b[0m\u001b[0;34m,\u001b[0m \u001b[0mkBT_e\u001b[0m\u001b[0;34m=\u001b[0m\u001b[0mkBT_e\u001b[0m\u001b[0;34m,\u001b[0m \u001b[0mdegree\u001b[0m\u001b[0;34m=\u001b[0m\u001b[0;36m0\u001b[0m\u001b[0;34m)\u001b[0m\u001b[0;34m\u001b[0m\u001b[0;34m\u001b[0m\u001b[0m\n\u001b[0m",
      "\u001b[0;32m~/anaconda3/envs/fenicsproject/lib/python3.9/site-packages/dolfin/function/expression.py\u001b[0m in \u001b[0;36m__init__\u001b[0;34m(self, cpp_code, *args, **kwargs)\u001b[0m\n\u001b[1;32m    398\u001b[0m                     \u001b[0;32mraise\u001b[0m \u001b[0mKeyError\u001b[0m\u001b[0;34m(\u001b[0m\u001b[0;34m\"User parameter key must be a string\"\u001b[0m\u001b[0;34m)\u001b[0m\u001b[0;34m\u001b[0m\u001b[0;34m\u001b[0m\u001b[0m\n\u001b[1;32m    399\u001b[0m \u001b[0;34m\u001b[0m\u001b[0m\n\u001b[0;32m--> 400\u001b[0;31m             \u001b[0mself\u001b[0m\u001b[0;34m.\u001b[0m\u001b[0m_cpp_object\u001b[0m \u001b[0;34m=\u001b[0m \u001b[0mjit\u001b[0m\u001b[0;34m.\u001b[0m\u001b[0mcompile_expression\u001b[0m\u001b[0;34m(\u001b[0m\u001b[0mcpp_code\u001b[0m\u001b[0;34m,\u001b[0m \u001b[0mparams\u001b[0m\u001b[0;34m)\u001b[0m\u001b[0;34m\u001b[0m\u001b[0;34m\u001b[0m\u001b[0m\n\u001b[0m\u001b[1;32m    401\u001b[0m             \u001b[0mself\u001b[0m\u001b[0;34m.\u001b[0m\u001b[0m_parameters\u001b[0m \u001b[0;34m=\u001b[0m \u001b[0mExpressionParameters\u001b[0m\u001b[0;34m(\u001b[0m\u001b[0mself\u001b[0m\u001b[0;34m.\u001b[0m\u001b[0m_cpp_object\u001b[0m\u001b[0;34m,\u001b[0m \u001b[0mparams\u001b[0m\u001b[0;34m)\u001b[0m\u001b[0;34m\u001b[0m\u001b[0;34m\u001b[0m\u001b[0m\n\u001b[1;32m    402\u001b[0m \u001b[0;34m\u001b[0m\u001b[0m\n",
      "\u001b[0;32m~/anaconda3/envs/fenicsproject/lib/python3.9/site-packages/dolfin/function/jit.py\u001b[0m in \u001b[0;36mcompile_expression\u001b[0;34m(statements, properties)\u001b[0m\n\u001b[1;32m    156\u001b[0m                 'name': 'expression', 'jit_generate': jit_generate}\n\u001b[1;32m    157\u001b[0m \u001b[0;34m\u001b[0m\u001b[0m\n\u001b[0;32m--> 158\u001b[0;31m     \u001b[0mexpression\u001b[0m \u001b[0;34m=\u001b[0m \u001b[0mcompile_class\u001b[0m\u001b[0;34m(\u001b[0m\u001b[0mcpp_data\u001b[0m\u001b[0;34m,\u001b[0m \u001b[0mmpi_comm\u001b[0m\u001b[0;34m=\u001b[0m\u001b[0mmpi_comm\u001b[0m\u001b[0;34m)\u001b[0m\u001b[0;34m\u001b[0m\u001b[0;34m\u001b[0m\u001b[0m\n\u001b[0m\u001b[1;32m    159\u001b[0m     \u001b[0;32mreturn\u001b[0m \u001b[0mexpression\u001b[0m\u001b[0;34m\u001b[0m\u001b[0;34m\u001b[0m\u001b[0m\n",
      "\u001b[0;32m~/anaconda3/envs/fenicsproject/lib/python3.9/site-packages/dolfin/jit/jit.py\u001b[0m in \u001b[0;36mcompile_class\u001b[0;34m(cpp_data, mpi_comm)\u001b[0m\n\u001b[1;32m    168\u001b[0m         \u001b[0msubmodule\u001b[0m \u001b[0;34m=\u001b[0m \u001b[0mdijitso\u001b[0m\u001b[0;34m.\u001b[0m\u001b[0mextract_factory_function\u001b[0m\u001b[0;34m(\u001b[0m\u001b[0mmodule\u001b[0m\u001b[0;34m,\u001b[0m \u001b[0;34m\"create_\"\u001b[0m \u001b[0;34m+\u001b[0m \u001b[0mmodule_name\u001b[0m\u001b[0;34m)\u001b[0m\u001b[0;34m(\u001b[0m\u001b[0;34m)\u001b[0m\u001b[0;34m\u001b[0m\u001b[0;34m\u001b[0m\u001b[0m\n\u001b[1;32m    169\u001b[0m     \u001b[0;32mexcept\u001b[0m \u001b[0mException\u001b[0m\u001b[0;34m:\u001b[0m\u001b[0;34m\u001b[0m\u001b[0;34m\u001b[0m\u001b[0m\n\u001b[0;32m--> 170\u001b[0;31m         \u001b[0;32mraise\u001b[0m \u001b[0mRuntimeError\u001b[0m\u001b[0;34m(\u001b[0m\u001b[0;34m\"Unable to compile C++ code with dijitso\"\u001b[0m\u001b[0;34m)\u001b[0m\u001b[0;34m\u001b[0m\u001b[0;34m\u001b[0m\u001b[0m\n\u001b[0m\u001b[1;32m    171\u001b[0m \u001b[0;34m\u001b[0m\u001b[0m\n\u001b[1;32m    172\u001b[0m     \u001b[0;32mif\u001b[0m \u001b[0mname\u001b[0m \u001b[0;34m==\u001b[0m \u001b[0;34m'expression'\u001b[0m\u001b[0;34m:\u001b[0m\u001b[0;34m\u001b[0m\u001b[0;34m\u001b[0m\u001b[0m\n",
      "\u001b[0;31mRuntimeError\u001b[0m: Unable to compile C++ code with dijitso"
     ]
    }
   ],
   "source": [
    "bc_n_left_expr = Expression(\"n_i * exp((Eg0_e/2 - Vbh_l)/kBT_e)\", n_i=n_i, Eg0_e=Eg0_e, Vbh_l=Vbh_l, kBT_e=kBT_e, degree=0)"
   ]
  },
  {
   "cell_type": "code",
   "execution_count": 28,
   "metadata": {},
   "outputs": [
    {
     "name": "stderr",
     "output_type": "stream",
     "text": [
      "Moving new file over differing existing file:\n",
      "src: /Users/edwardtang/Project/Physics_Simulation/ISHE/jitfailure-dolfin_expression_27727092dea5451ec1cc048a09fd904c/error.log.c6adff6cbacf49eb9e05ae0f13da5b7e\n",
      "dst: /Users/edwardtang/Project/Physics_Simulation/ISHE/jitfailure-dolfin_expression_27727092dea5451ec1cc048a09fd904c/error.log\n",
      "backup: /Users/edwardtang/Project/Physics_Simulation/ISHE/jitfailure-dolfin_expression_27727092dea5451ec1cc048a09fd904c/error.log.old\n",
      "Compilation failed! Sources, command, and errors have been written to: /Users/edwardtang/Project/Physics_Simulation/ISHE/jitfailure-dolfin_expression_27727092dea5451ec1cc048a09fd904c\n"
     ]
    },
    {
     "ename": "RuntimeError",
     "evalue": "Unable to compile C++ code with dijitso",
     "output_type": "error",
     "traceback": [
      "\u001b[0;31m---------------------------------------------------------------------------\u001b[0m",
      "\u001b[0;31mAttributeError\u001b[0m                            Traceback (most recent call last)",
      "\u001b[0;32m~/anaconda3/envs/fenicsproject/lib/python3.9/site-packages/dolfin/jit/jit.py\u001b[0m in \u001b[0;36mcompile_class\u001b[0;34m(cpp_data, mpi_comm)\u001b[0m\n\u001b[1;32m    167\u001b[0m                                         mpi_comm=mpi_comm)\n\u001b[0;32m--> 168\u001b[0;31m         \u001b[0msubmodule\u001b[0m \u001b[0;34m=\u001b[0m \u001b[0mdijitso\u001b[0m\u001b[0;34m.\u001b[0m\u001b[0mextract_factory_function\u001b[0m\u001b[0;34m(\u001b[0m\u001b[0mmodule\u001b[0m\u001b[0;34m,\u001b[0m \u001b[0;34m\"create_\"\u001b[0m \u001b[0;34m+\u001b[0m \u001b[0mmodule_name\u001b[0m\u001b[0;34m)\u001b[0m\u001b[0;34m(\u001b[0m\u001b[0;34m)\u001b[0m\u001b[0;34m\u001b[0m\u001b[0;34m\u001b[0m\u001b[0m\n\u001b[0m\u001b[1;32m    169\u001b[0m     \u001b[0;32mexcept\u001b[0m \u001b[0mException\u001b[0m\u001b[0;34m:\u001b[0m\u001b[0;34m\u001b[0m\u001b[0;34m\u001b[0m\u001b[0m\n",
      "\u001b[0;32m~/anaconda3/envs/fenicsproject/lib/python3.9/site-packages/dijitso/jit.py\u001b[0m in \u001b[0;36mextract_factory_function\u001b[0;34m(lib, name)\u001b[0m\n\u001b[1;32m     42\u001b[0m     \"\"\"\n\u001b[0;32m---> 43\u001b[0;31m     \u001b[0mfunction\u001b[0m \u001b[0;34m=\u001b[0m \u001b[0mgetattr\u001b[0m\u001b[0;34m(\u001b[0m\u001b[0mlib\u001b[0m\u001b[0;34m,\u001b[0m \u001b[0mname\u001b[0m\u001b[0;34m)\u001b[0m\u001b[0;34m\u001b[0m\u001b[0;34m\u001b[0m\u001b[0m\n\u001b[0m\u001b[1;32m     44\u001b[0m     \u001b[0mfunction\u001b[0m\u001b[0;34m.\u001b[0m\u001b[0mrestype\u001b[0m \u001b[0;34m=\u001b[0m \u001b[0mctypes\u001b[0m\u001b[0;34m.\u001b[0m\u001b[0mc_void_p\u001b[0m\u001b[0;34m\u001b[0m\u001b[0;34m\u001b[0m\u001b[0m\n",
      "\u001b[0;31mAttributeError\u001b[0m: 'NoneType' object has no attribute 'create_dolfin_expression_27727092dea5451ec1cc048a09fd904c'",
      "\nDuring handling of the above exception, another exception occurred:\n",
      "\u001b[0;31mRuntimeError\u001b[0m                              Traceback (most recent call last)",
      "\u001b[0;32m<ipython-input-28-88d374a40afa>\u001b[0m in \u001b[0;36m<module>\u001b[0;34m\u001b[0m\n\u001b[1;32m     11\u001b[0m \u001b[0;34m\u001b[0m\u001b[0m\n\u001b[1;32m     12\u001b[0m \u001b[0;34m\u001b[0m\u001b[0m\n\u001b[0;32m---> 13\u001b[0;31m bc_n_left_expr = Expression(\"n_i * exp((Eg0_e/2 - Vbh_l)/kBT_e)\",\n\u001b[0m\u001b[1;32m     14\u001b[0m                                    \u001b[0mn_i\u001b[0m\u001b[0;34m=\u001b[0m\u001b[0mn_i\u001b[0m\u001b[0;34m,\u001b[0m \u001b[0mEg0_e\u001b[0m\u001b[0;34m=\u001b[0m\u001b[0mEg0_e\u001b[0m\u001b[0;34m,\u001b[0m \u001b[0mVbh_l\u001b[0m\u001b[0;34m=\u001b[0m\u001b[0mVbh_l\u001b[0m\u001b[0;34m,\u001b[0m \u001b[0mkBT_e\u001b[0m\u001b[0;34m=\u001b[0m\u001b[0mkBT_e\u001b[0m\u001b[0;34m,\u001b[0m\u001b[0;34m\u001b[0m\u001b[0;34m\u001b[0m\u001b[0m\n\u001b[1;32m     15\u001b[0m                                    degree=0)\n",
      "\u001b[0;32m~/anaconda3/envs/fenicsproject/lib/python3.9/site-packages/dolfin/function/expression.py\u001b[0m in \u001b[0;36m__init__\u001b[0;34m(self, cpp_code, *args, **kwargs)\u001b[0m\n\u001b[1;32m    398\u001b[0m                     \u001b[0;32mraise\u001b[0m \u001b[0mKeyError\u001b[0m\u001b[0;34m(\u001b[0m\u001b[0;34m\"User parameter key must be a string\"\u001b[0m\u001b[0;34m)\u001b[0m\u001b[0;34m\u001b[0m\u001b[0;34m\u001b[0m\u001b[0m\n\u001b[1;32m    399\u001b[0m \u001b[0;34m\u001b[0m\u001b[0m\n\u001b[0;32m--> 400\u001b[0;31m             \u001b[0mself\u001b[0m\u001b[0;34m.\u001b[0m\u001b[0m_cpp_object\u001b[0m \u001b[0;34m=\u001b[0m \u001b[0mjit\u001b[0m\u001b[0;34m.\u001b[0m\u001b[0mcompile_expression\u001b[0m\u001b[0;34m(\u001b[0m\u001b[0mcpp_code\u001b[0m\u001b[0;34m,\u001b[0m \u001b[0mparams\u001b[0m\u001b[0;34m)\u001b[0m\u001b[0;34m\u001b[0m\u001b[0;34m\u001b[0m\u001b[0m\n\u001b[0m\u001b[1;32m    401\u001b[0m             \u001b[0mself\u001b[0m\u001b[0;34m.\u001b[0m\u001b[0m_parameters\u001b[0m \u001b[0;34m=\u001b[0m \u001b[0mExpressionParameters\u001b[0m\u001b[0;34m(\u001b[0m\u001b[0mself\u001b[0m\u001b[0;34m.\u001b[0m\u001b[0m_cpp_object\u001b[0m\u001b[0;34m,\u001b[0m \u001b[0mparams\u001b[0m\u001b[0;34m)\u001b[0m\u001b[0;34m\u001b[0m\u001b[0;34m\u001b[0m\u001b[0m\n\u001b[1;32m    402\u001b[0m \u001b[0;34m\u001b[0m\u001b[0m\n",
      "\u001b[0;32m~/anaconda3/envs/fenicsproject/lib/python3.9/site-packages/dolfin/function/jit.py\u001b[0m in \u001b[0;36mcompile_expression\u001b[0;34m(statements, properties)\u001b[0m\n\u001b[1;32m    156\u001b[0m                 'name': 'expression', 'jit_generate': jit_generate}\n\u001b[1;32m    157\u001b[0m \u001b[0;34m\u001b[0m\u001b[0m\n\u001b[0;32m--> 158\u001b[0;31m     \u001b[0mexpression\u001b[0m \u001b[0;34m=\u001b[0m \u001b[0mcompile_class\u001b[0m\u001b[0;34m(\u001b[0m\u001b[0mcpp_data\u001b[0m\u001b[0;34m,\u001b[0m \u001b[0mmpi_comm\u001b[0m\u001b[0;34m=\u001b[0m\u001b[0mmpi_comm\u001b[0m\u001b[0;34m)\u001b[0m\u001b[0;34m\u001b[0m\u001b[0;34m\u001b[0m\u001b[0m\n\u001b[0m\u001b[1;32m    159\u001b[0m     \u001b[0;32mreturn\u001b[0m \u001b[0mexpression\u001b[0m\u001b[0;34m\u001b[0m\u001b[0;34m\u001b[0m\u001b[0m\n",
      "\u001b[0;32m~/anaconda3/envs/fenicsproject/lib/python3.9/site-packages/dolfin/jit/jit.py\u001b[0m in \u001b[0;36mcompile_class\u001b[0;34m(cpp_data, mpi_comm)\u001b[0m\n\u001b[1;32m    168\u001b[0m         \u001b[0msubmodule\u001b[0m \u001b[0;34m=\u001b[0m \u001b[0mdijitso\u001b[0m\u001b[0;34m.\u001b[0m\u001b[0mextract_factory_function\u001b[0m\u001b[0;34m(\u001b[0m\u001b[0mmodule\u001b[0m\u001b[0;34m,\u001b[0m \u001b[0;34m\"create_\"\u001b[0m \u001b[0;34m+\u001b[0m \u001b[0mmodule_name\u001b[0m\u001b[0;34m)\u001b[0m\u001b[0;34m(\u001b[0m\u001b[0;34m)\u001b[0m\u001b[0;34m\u001b[0m\u001b[0;34m\u001b[0m\u001b[0m\n\u001b[1;32m    169\u001b[0m     \u001b[0;32mexcept\u001b[0m \u001b[0mException\u001b[0m\u001b[0;34m:\u001b[0m\u001b[0;34m\u001b[0m\u001b[0;34m\u001b[0m\u001b[0m\n\u001b[0;32m--> 170\u001b[0;31m         \u001b[0;32mraise\u001b[0m \u001b[0mRuntimeError\u001b[0m\u001b[0;34m(\u001b[0m\u001b[0;34m\"Unable to compile C++ code with dijitso\"\u001b[0m\u001b[0;34m)\u001b[0m\u001b[0;34m\u001b[0m\u001b[0;34m\u001b[0m\u001b[0m\n\u001b[0m\u001b[1;32m    171\u001b[0m \u001b[0;34m\u001b[0m\u001b[0m\n\u001b[1;32m    172\u001b[0m     \u001b[0;32mif\u001b[0m \u001b[0mname\u001b[0m \u001b[0;34m==\u001b[0m \u001b[0;34m'expression'\u001b[0m\u001b[0;34m:\u001b[0m\u001b[0;34m\u001b[0m\u001b[0;34m\u001b[0m\u001b[0m\n",
      "\u001b[0;31mRuntimeError\u001b[0m: Unable to compile C++ code with dijitso"
     ]
    }
   ],
   "source": [
    "# Define boundaries\n",
    "right   = f'near(x[0], {height})'\n",
    "left    = 'near(x[0], 0.0)'\n",
    "\n",
    "# Define boundary conditions\n",
    "\"\"\"\n",
    "Boundary Conditions For n\n",
    "\"\"\"\n",
    "# bc_n_left  = n_i * exp((Eg0_e/2 - Vbh_l)/kBT_e)\n",
    "# bc_n_right = n_i * exp((Eg0_e/2 - Vbh_r)/kBT_e)\n",
    "\n",
    "\n",
    "bc_n_left_expr = Expression(\"n_i * exp((Eg0_e/2 - Vbh_l)/kBT_e)\",\n",
    "                                   n_i=n_i, Eg0_e=Eg0_e, Vbh_l=Vbh_l, kBT_e=kBT_e,\n",
    "                                   degree=0)\n",
    "bc_n_right_expr = Expression(\"n_i * exp((Eg0_e/2 - Vbh_r)/kBT_e)\", \\\n",
    "                                   n_i=n_i, Eg0_e=Eg0_e, Vbh_r=Vbh_r, kBT_e=kBT_e, \\\n",
    "                                   degree=0)\n",
    "bc_n_left   = DirichletBC(V_space.sub(0), bc_n_left_expr, left)\n",
    "bc_n_right  = DirichletBC(V_space.sub(0), bc_n_right_expr, right)\n",
    "\n",
    "\n",
    "\"\"\"\n",
    "Boundary Conditions For p\n",
    "\"\"\"\n",
    "# bc_p_left  = n_i * exp(-(Eg0_e/2 - Vbh_r) / kBT_e)\n",
    "# bc_p_right = n_i * exp(-(Eg0_e/2 - Vbh_l) / kBT_e)\n",
    "bc_p_left_expr = Expression(\"n_i * exp(-(Eg0_e/2 - Vbh_l)/kBT_e)\", \\\n",
    "                                   n_i=n_i, Eg0_e=Eg0_e, Vbh_l=Vbh_l, kBT_e=kBT_e, \\\n",
    "                                   degree=0)\n",
    "\n",
    "bc_p_right_expr = Expression(\"n_i * exp(-(Eg0_e/2 - Vbh_r)/kBT_e)\", \\\n",
    "                                   n_i=n_i, Eg0_e=Eg0_e, Vbh_r=Vbh_r, kBT_e=kBT_e, \\\n",
    "                                   degree=0)\n",
    "bc_p_left   = DirichletBC(V_space.sub(1), bc_p_left_expr, left)\n",
    "bc_p_right  = DirichletBC(V_space.sub(1), bc_p_right_expr, right)\n",
    "\n",
    "\n",
    "\"\"\"\n",
    "Boundary Conditions For V\n",
    "\"\"\"\n",
    "# bc_V_left  = -Vbh_l + V_SD\n",
    "# bc_V_right = -Vbh_r\n",
    "bc_V_left_expr  = Expression(\"-Vbh_l + V_SD\", Vbh_l=Vbh_l, V_SD=V_SD, degree=0)\n",
    "bc_V_right_expr = Expression(\"-Vbh_r\", Vbh_r=Vbh_r, degree=0)\n",
    "\n",
    "bc_V_left  = DirichletBC(V_space.sub(2), bc_V_left_expr, left)\n",
    "bc_V_right = DirichletBC(V_space.sub(2), bc_V_right_expr, right)\n",
    "\n",
    "\n",
    "# bc_f = [bc_f_top, bc_f_bottom, bc_f_right, bc_f_left]\n",
    "# bc_g = [bc_g_top, bc_g_bottom, bc_g_right, bc_g_left]\n",
    "bc_array = [bc_n_left, bc_n_right, \n",
    "            bc_p_left, bc_p_right, \n",
    "            bc_V_left, bc_V_right]"
   ]
  },
  {
   "cell_type": "code",
   "execution_count": null,
   "metadata": {},
   "outputs": [],
   "source": [
    "J_n = Constant(mu_n) * n * -grad(V) + Constant(D_n) * grad(n)\n",
    "J_p = Constant(mu_p) * p * -grad(V) - Constant(D_p) * grad(p)"
   ]
  },
  {
   "cell_type": "code",
   "execution_count": null,
   "metadata": {},
   "outputs": [],
   "source": [
    "def setGeneration(P_L):\n",
    "    G0 = (P_L/hv)/(np.sqrt(2*np.pi)*sigma)  # unit: 1/(um*s)\n",
    "    G = Expression(\"G0 / Az * exp(-pow((x[0]-x0), 2)/(2*pow(sigma,2)))\" +\n",
    "                   \"*exp(-alpha*(1-x[1]))\",\\\n",
    "                    G0=G0, Az=Az, x0=x0, sigma=sigma, alpha=alpha, degree=4)\n",
    "    return G"
   ]
  },
  {
   "cell_type": "code",
   "execution_count": 26,
   "metadata": {},
   "outputs": [],
   "source": [
    "# G = G0/Az * np.exp(-(x-x0)^2/(2*sigma^2))*exp(-alpha*(1-y))\n",
    "x0 = 100\n",
    "G = setGeneration(1e-9)\n",
    "R = p / Constant(t_p)"
   ]
  },
  {
   "cell_type": "code",
   "execution_count": 27,
   "metadata": {},
   "outputs": [],
   "source": [
    "# Define variational problem\n",
    "# F = dot(grad(v_1), grad(f)) * dx + dot(grad(v_2), grad(g)) * dx \\\n",
    "#     + dot(grad(v_3), grad(h)) * dx + v_1 * (g - h* f + s_1) * dx \\\n",
    "#     + v_2 * (f + h + s_2) * dx + v_3 * (f * g + s_3) * dx\n",
    "n_vec = FacetNormal(mesh)\n",
    "\n",
    "# F = dot(grad(v_1), J_n) * dx - v_1 * (G - R) * dx + \\\n",
    "#     dot(grad(v_2), J_p) * dx + v_2 * (G - R) * dx + \\\n",
    "#     -v_3 * dot(grad(V), n_vec) * ds + dot(grad(v_3), grad(V)) * dx \\\n",
    "#     - v_3 * Constant(e) * (p - n + Constant(N_D) - Constant(N_A))/ Constant(epsr * eps0) * dx\n",
    "\n",
    "F = dot(grad(v_1), J_n) * dx - v_1 * (G - R) * dx + \\\n",
    "    dot(grad(v_2), J_p) * dx + v_2 * (G - R) * dx + dot(grad(v_3), grad(V)) * dx \\\n",
    "    - v_3 * Constant(e) * (p - n + Constant(N_D) - Constant(N_A))/ Constant(epsr * eps0) * dx"
   ]
  },
  {
   "cell_type": "code",
   "execution_count": 7,
   "metadata": {
    "scrolled": true
   },
   "outputs": [
    {
     "ename": "NameError",
     "evalue": "name 'F' is not defined",
     "output_type": "error",
     "traceback": [
      "\u001b[0;31m---------------------------------------------------------------------------\u001b[0m",
      "\u001b[0;31mNameError\u001b[0m                                 Traceback (most recent call last)",
      "\u001b[0;32m<ipython-input-7-6cf3ae4bff86>\u001b[0m in \u001b[0;36m<module>\u001b[0;34m\u001b[0m\n\u001b[0;32m----> 1\u001b[0;31m solve(F==0, u, bc_array, \\\n\u001b[0m\u001b[1;32m      2\u001b[0m       solver_parameters={'linear_solver': 'gmres', 'preconditioner': 'ilu'})\n",
      "\u001b[0;31mNameError\u001b[0m: name 'F' is not defined"
     ]
    }
   ],
   "source": [
    "solve(F==0, u, bc_array, \\\n",
    "      solver_parameters={'linear_solver': 'gmres', 'preconditioner': 'ilu'})"
   ]
  },
  {
   "cell_type": "code",
   "execution_count": 87,
   "metadata": {},
   "outputs": [
    {
     "ename": "TypeError",
     "evalue": "getter() takes exactly one argument (0 given)",
     "output_type": "error",
     "traceback": [
      "\u001b[0;31m---------------------------------------------------------------------------\u001b[0m",
      "\u001b[0;31mTypeError\u001b[0m                                 Traceback (most recent call last)",
      "\u001b[0;32m<ipython-input-87-3a4e0859066f>\u001b[0m in \u001b[0;36m<module>\u001b[0;34m\u001b[0m\n\u001b[0;32m----> 1\u001b[0;31m \u001b[0mNonlinearVariationalSolver\u001b[0m\u001b[0;34m.\u001b[0m\u001b[0mparameters\u001b[0m\u001b[0;34m.\u001b[0m\u001b[0mgetter\u001b[0m\u001b[0;34m(\u001b[0m\u001b[0;34m)\u001b[0m\u001b[0;34m\u001b[0m\u001b[0;34m\u001b[0m\u001b[0m\n\u001b[0m",
      "\u001b[0;31mTypeError\u001b[0m: getter() takes exactly one argument (0 given)"
     ]
    }
   ],
   "source": []
  },
  {
   "cell_type": "code",
   "execution_count": 17,
   "metadata": {},
   "outputs": [
    {
     "data": {
      "text/plain": [
       "<matplotlib.tri.tricontour.TriContourSet at 0x7fb9a3120b10>"
      ]
     },
     "execution_count": 17,
     "metadata": {},
     "output_type": "execute_result"
    },
    {
     "data": {
      "image/png": "[encoded data removed]",
      "text/plain": [
       "<Figure size 432x288 with 1 Axes>"
      ]
     },
     "metadata": {
      "needs_background": "light"
     },
     "output_type": "display_data"
    }
   ],
   "source": [
    "plot(n)"
   ]
  },
  {
   "cell_type": "code",
   "execution_count": 18,
   "metadata": {},
   "outputs": [
    {
     "data": {
      "text/plain": [
       "<matplotlib.tri.tricontour.TriContourSet at 0x7fb9a3a11b50>"
      ]
     },
     "execution_count": 18,
     "metadata": {},
     "output_type": "execute_result"
    },
    {
     "data": {
      "image/png": "[encoded data removed]",
      "text/plain": [
       "<Figure size 432x288 with 1 Axes>"
      ]
     },
     "metadata": {
      "needs_background": "light"
     },
     "output_type": "display_data"
    }
   ],
   "source": [
    "plot(p)"
   ]
  },
  {
   "cell_type": "code",
   "execution_count": 19,
   "metadata": {},
   "outputs": [
    {
     "data": {
      "text/plain": [
       "<matplotlib.tri.tricontour.TriContourSet at 0x7fb9a3798e50>"
      ]
     },
     "execution_count": 19,
     "metadata": {},
     "output_type": "execute_result"
    },
    {
     "data": {
      "image/png": "[encoded data removed]",
      "text/plain": [
       "<Figure size 432x288 with 1 Axes>"
      ]
     },
     "metadata": {
      "needs_background": "light"
     },
     "output_type": "display_data"
    }
   ],
   "source": [
    "plot(V)"
   ]
  },
  {
   "cell_type": "code",
   "execution_count": 26,
   "metadata": {},
   "outputs": [],
   "source": [
    "# exact solutions"
   ]
  },
  {
   "cell_type": "code",
   "execution_count": 27,
   "metadata": {},
   "outputs": [],
   "source": [
    "# f = x^2 * y^2 + x * y\n",
    "f_exact = Expression(\"pow(x[0], 2) * pow(x[1], 2) + x[0] * x[1]\", degree=4)\n",
    "\n",
    "# g = x^3 + y^2\n",
    "g_exact = Expression(\"pow(x[0], 3) + pow(x[1], 2)\", degree=3)\n",
    "\n",
    "# h = -x^2 + y^3\n",
    "h_exact = Expression(\"-pow(x[0], 2) + pow(x[1], 3)\", degree=3)"
   ]
  },
  {
   "cell_type": "code",
   "execution_count": 28,
   "metadata": {},
   "outputs": [
    {
     "data": {
      "text/plain": [
       "<matplotlib.tri.tricontour.TriContourSet at 0x7f9c693c36d0>"
      ]
     },
     "execution_count": 28,
     "metadata": {},
     "output_type": "execute_result"
    },
    {
     "data": {
      "image/png": "[encoded data removed]",
      "text/plain": [
       "<Figure size 432x288 with 1 Axes>"
      ]
     },
     "metadata": {
      "needs_background": "light"
     },
     "output_type": "display_data"
    }
   ],
   "source": [
    "plot(f_exact, mesh = mesh)"
   ]
  },
  {
   "cell_type": "code",
   "execution_count": 29,
   "metadata": {},
   "outputs": [
    {
     "data": {
      "text/plain": [
       "<matplotlib.tri.tricontour.TriContourSet at 0x7f9c6ab3a990>"
      ]
     },
     "execution_count": 29,
     "metadata": {},
     "output_type": "execute_result"
    },
    {
     "data": {
      "image/png": "[encoded data removed]",
      "text/plain": [
       "<Figure size 432x288 with 1 Axes>"
      ]
     },
     "metadata": {
      "needs_background": "light"
     },
     "output_type": "display_data"
    }
   ],
   "source": [
    "plot(g_exact, mesh = mesh)"
   ]
  },
  {
   "cell_type": "code",
   "execution_count": 30,
   "metadata": {},
   "outputs": [
    {
     "data": {
      "text/plain": [
       "<matplotlib.tri.tricontour.TriContourSet at 0x7f9c6ac593d0>"
      ]
     },
     "execution_count": 30,
     "metadata": {},
     "output_type": "execute_result"
    },
    {
     "data": {
      "image/png": "[encoded data removed]",
      "text/plain": [
       "<Figure size 432x288 with 1 Axes>"
      ]
     },
     "metadata": {
      "needs_background": "light"
     },
     "output_type": "display_data"
    }
   ],
   "source": [
    "plot(h_exact, mesh = mesh)"
   ]
  },
  {
   "cell_type": "code",
   "execution_count": null,
   "metadata": {},
   "outputs": [],
   "source": []
  },
  {
   "cell_type": "code",
   "execution_count": 19,
   "metadata": {
    "scrolled": false
   },
   "outputs": [
    {
     "ename": "AttributeError",
     "evalue": "'Indexed' object has no attribute 'compute_vertex_values'",
     "output_type": "error",
     "traceback": [
      "\u001b[0;31m---------------------------------------------------------------------------\u001b[0m",
      "\u001b[0;31mAttributeError\u001b[0m                            Traceback (most recent call last)",
      "\u001b[0;32m<ipython-input-19-f6292750ad4b>\u001b[0m in \u001b[0;36m<module>\u001b[0;34m\u001b[0m\n\u001b[1;32m      1\u001b[0m \u001b[0mvertex_values_f_exact\u001b[0m \u001b[0;34m=\u001b[0m \u001b[0mf_exact\u001b[0m\u001b[0;34m.\u001b[0m\u001b[0mcompute_vertex_values\u001b[0m\u001b[0;34m(\u001b[0m\u001b[0mmesh\u001b[0m\u001b[0;34m)\u001b[0m\u001b[0;34m\u001b[0m\u001b[0;34m\u001b[0m\u001b[0m\n\u001b[1;32m      2\u001b[0m \u001b[0mvertex_values_g_exact\u001b[0m \u001b[0;34m=\u001b[0m \u001b[0mg_exact\u001b[0m\u001b[0;34m.\u001b[0m\u001b[0mcompute_vertex_values\u001b[0m\u001b[0;34m(\u001b[0m\u001b[0mmesh\u001b[0m\u001b[0;34m)\u001b[0m\u001b[0;34m\u001b[0m\u001b[0;34m\u001b[0m\u001b[0m\n\u001b[0;32m----> 3\u001b[0;31m \u001b[0mvertex_values_f\u001b[0m \u001b[0;34m=\u001b[0m \u001b[0mf\u001b[0m\u001b[0;34m.\u001b[0m\u001b[0mcompute_vertex_values\u001b[0m\u001b[0;34m(\u001b[0m\u001b[0mmesh\u001b[0m\u001b[0;34m)\u001b[0m\u001b[0;34m\u001b[0m\u001b[0;34m\u001b[0m\u001b[0m\n\u001b[0m\u001b[1;32m      4\u001b[0m \u001b[0mvertex_values_g\u001b[0m \u001b[0;34m=\u001b[0m \u001b[0mg\u001b[0m\u001b[0;34m.\u001b[0m\u001b[0mcompute_vertex_values\u001b[0m\u001b[0;34m(\u001b[0m\u001b[0mmesh\u001b[0m\u001b[0;34m)\u001b[0m\u001b[0;34m\u001b[0m\u001b[0;34m\u001b[0m\u001b[0m\n\u001b[1;32m      5\u001b[0m \u001b[0;34m\u001b[0m\u001b[0m\n",
      "\u001b[0;31mAttributeError\u001b[0m: 'Indexed' object has no attribute 'compute_vertex_values'"
     ]
    }
   ],
   "source": [
    "vertex_values_f_exact = f_exact.compute_vertex_values(mesh)\n",
    "vertex_values_g_exact = g_exact.compute_vertex_values(mesh)\n",
    "vertex_values_f = f.compute_vertex_values(mesh)\n",
    "vertex_values_g = g.compute_vertex_values(mesh)\n",
    "\n",
    "error_max_f = np.max(np.abs(vertex_values_f_exact - vertex_values_f))\n",
    "print(\"error_max =\", error_max_f)\n",
    "error_max_g = np.max(np.abs(vertex_values_g_exact - vertex_values_g))\n",
    "print(\"error_max =\", error_max_g)"
   ]
  },
  {
   "cell_type": "code",
   "execution_count": null,
   "metadata": {},
   "outputs": [],
   "source": []
  }
 ],
 "metadata": {
  "kernelspec": {
   "display_name": "fenics2019",
   "language": "python",
   "name": "fenics2019"
  },
  "language_info": {
   "codemirror_mode": {
    "name": "ipython",
    "version": 3
   },
   "file_extension": ".py",
   "mimetype": "text/x-python",
   "name": "python",
   "nbconvert_exporter": "python",
   "pygments_lexer": "ipython3",
   "version": "3.8.8"
  }
 },
 "nbformat": 4,
 "nbformat_minor": 4
}
