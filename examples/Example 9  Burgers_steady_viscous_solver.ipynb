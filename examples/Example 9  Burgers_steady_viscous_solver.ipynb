{
 "cells": [
  {
   "cell_type": "code",
   "execution_count": 3,
   "metadata": {},
   "outputs": [],
   "source": [
    "from fenics import *\n",
    "import numpy as np\n",
    "from mshr import *"
   ]
  },
  {
   "cell_type": "code",
   "execution_count": 15,
   "metadata": {},
   "outputs": [],
   "source": [
    "b = 1\n",
    "a = 0.5\n",
    "nu = 0.1\n",
    "e_num = 16"
   ]
  },
  {
   "cell_type": "code",
   "execution_count": 16,
   "metadata": {},
   "outputs": [],
   "source": [
    "x_left = -1.0\n",
    "x_right = +1.0\n",
    "mesh = IntervalMesh ( e_num, x_left, x_right )"
   ]
  },
  {
   "cell_type": "code",
   "execution_count": 17,
   "metadata": {},
   "outputs": [],
   "source": [
    "V = FunctionSpace ( mesh, \"CG\", 1 )"
   ]
  },
  {
   "cell_type": "code",
   "execution_count": 18,
   "metadata": {},
   "outputs": [],
   "source": [
    "#  Define the boundary conditions.\n",
    "#  if X <= XLEFT + eps, then U = U_LEFT\n",
    "#  if X_RIGHT - eps <= X, then U = U_RIGHT\n",
    "#\n",
    "u_left = -1.0\n",
    "u_right = +1.0\n",
    "\n",
    "def on_left(x, on_boundary):\n",
    "    return x[0] <= x_left + DOLFIN_EPS \n",
    "\n",
    "def on_right ( x, on_boundary ):\n",
    "    return x_right - DOLFIN_EPS <= x[0]\n",
    "\n",
    "bc_left = DirichletBC ( V, u_left, on_left )\n",
    "bc_right = DirichletBC ( V, u_right, on_right )\n",
    "\n",
    "bc = [ bc_left, bc_right ]"
   ]
  },
  {
   "cell_type": "code",
   "execution_count": 19,
   "metadata": {},
   "outputs": [
    {
     "name": "stdout",
     "output_type": "stream",
     "text": [
      "Calling FFC just-in-time (JIT) compiler, this may take some time.\n"
     ]
    },
    {
     "name": "stderr",
     "output_type": "stream",
     "text": [
      "/Users/edwardtang/anaconda3/envs/fenics2018/lib/python3.7/site-packages/ffc/uflacs/analysis/dependencies.py:61: FutureWarning: Using a non-tuple sequence for multidimensional indexing is deprecated; use `arr[tuple(seq)]` instead of `arr[seq]`. In the future this will be interpreted as an array index, `arr[np.array(seq)]`, which will result either in an error or a different result.\n",
      "  active[targets] = 1\n"
     ]
    },
    {
     "name": "stdout",
     "output_type": "stream",
     "text": [
      "Calling FFC just-in-time (JIT) compiler, this may take some time.\n"
     ]
    },
    {
     "name": "stderr",
     "output_type": "stream",
     "text": [
      "/Users/edwardtang/anaconda3/envs/fenics2018/lib/python3.7/site-packages/ffc/uflacs/analysis/dependencies.py:61: FutureWarning: Using a non-tuple sequence for multidimensional indexing is deprecated; use `arr[tuple(seq)]` instead of `arr[seq]`. In the future this will be interpreted as an array index, `arr[np.array(seq)]`, which will result either in an error or a different result.\n",
      "  active[targets] = 1\n"
     ]
    }
   ],
   "source": [
    "#  Define the trial functions (u) and test functions (v).\n",
    "u = Function(V)\n",
    "v = TestFunction(V)\n",
    "\n",
    "F = (nu * inner(grad(u), grad(v)) + inner(u*u.dx(0), v)) * dx\n",
    "\n",
    "#  Specify the jacobian.\n",
    "J = derivative ( F, u )\n",
    "\n",
    "#  We use a form of the solve command that recognizes that we are\n",
    "#  working with a nonlinear equation.\n",
    "solve ( F == 0, u, bc, J = J )"
   ]
  },
  {
   "cell_type": "code",
   "execution_count": 28,
   "metadata": {},
   "outputs": [
    {
     "data": {
      "text/plain": [
       "[<matplotlib.lines.Line2D at 0x7fee5b8fd990>]"
      ]
     },
     "execution_count": 28,
     "metadata": {},
     "output_type": "execute_result"
    },
    {
     "data": {
      "image/png": "[encoded data removed]",
      "text/plain": [
       "<Figure size 432x288 with 1 Axes>"
      ]
     },
     "metadata": {
      "needs_background": "light"
     },
     "output_type": "display_data"
    }
   ],
   "source": [
    "plot(u, title=\"Finite element mesh\")"
   ]
  },
  {
   "cell_type": "code",
   "execution_count": null,
   "metadata": {},
   "outputs": [],
   "source": []
  }
 ],
 "metadata": {
  "kernelspec": {
   "display_name": "firstEnv",
   "language": "python",
   "name": "firstenv"
  },
  "language_info": {
   "codemirror_mode": {
    "name": "ipython",
    "version": 3
   },
   "file_extension": ".py",
   "mimetype": "text/x-python",
   "name": "python",
   "nbconvert_exporter": "python",
   "pygments_lexer": "ipython3",
   "version": "3.7.9"
  }
 },
 "nbformat": 4,
 "nbformat_minor": 4
}
