{
 "cells": [
  {
   "cell_type": "code",
   "execution_count": 1,
   "metadata": {},
   "outputs": [],
   "source": [
    "from fenics import *\n",
    "import numpy as np"
   ]
  },
  {
   "cell_type": "markdown",
   "metadata": {},
   "source": [
    "### Example 1: https://engineering.purdue.edu/~djiao/ee618/classnote/Lect16-FEM-Example-BasicSteps.pdf"
   ]
  },
  {
   "cell_type": "code",
   "execution_count": 2,
   "metadata": {},
   "outputs": [],
   "source": [
    "# Create mesh and define function space\n",
    "# IntervalMesh(nx, a, b)\n",
    "# nx (int) The number of cells, a (float) The minimum point (inclusive), b (float) The maximum point (inclusive).\n",
    "mesh = IntervalMesh(300, 0, 1)\n"
   ]
  },
  {
   "cell_type": "code",
   "execution_count": 3,
   "metadata": {},
   "outputs": [
    {
     "data": {
      "text/plain": [
       "[<matplotlib.lines.Line2D at 0x7fdb7c2dd810>]"
      ]
     },
     "execution_count": 3,
     "metadata": {},
     "output_type": "execute_result"
    },
    {
     "data": {
      "image/png": "[encoded data removed]",
      "text/plain": [
       "<Figure size 432x288 with 1 Axes>"
      ]
     },
     "metadata": {
      "needs_background": "light"
     },
     "output_type": "display_data"
    }
   ],
   "source": [
    "plot(mesh)"
   ]
  },
  {
   "cell_type": "code",
   "execution_count": 4,
   "metadata": {},
   "outputs": [],
   "source": [
    "V = FunctionSpace(mesh, \"P\", 2)\n",
    "u_D = Expression(\"pow(x[0], 3)/6 + pow(x[0], 2)/2 + x[0]/3\", degree=2)\n",
    "f = Expression(\"x[0] + 1\", degree=1)\n",
    "\n",
    "# Define boundary condition\n",
    "\n",
    "u_L = Constant(0)\n",
    "u_R = Constant(1)\n",
    "\n",
    "def boundary_L(x, on_boundary):\n",
    "    tol = 1E-14\n",
    "    return on_boundary and near(x[0], u_L, tol)\n",
    "\n",
    "def boundary_R(x, on_boundary):\n",
    "    tol = 1E-14\n",
    "    return on_boundary and near(x[0], u_R, tol)\n",
    "\n",
    "bc_L = DirichletBC(V, u_L, boundary_L)\n",
    "bc_R = DirichletBC(V, u_R, boundary_R)\n",
    "\n",
    "bcs = [bc_L, bc_R]"
   ]
  },
  {
   "cell_type": "code",
   "execution_count": 5,
   "metadata": {},
   "outputs": [],
   "source": [
    "# Define variational problem\n",
    "u = TrialFunction(V)\n",
    "v = TestFunction(V)\n",
    "a = -dot(grad(v), grad(u))*dx\n",
    "L = v * f* dx"
   ]
  },
  {
   "cell_type": "code",
   "execution_count": 6,
   "metadata": {},
   "outputs": [
    {
     "name": "stdout",
     "output_type": "stream",
     "text": [
      "Calling FFC just-in-time (JIT) compiler, this may take some time.\n"
     ]
    },
    {
     "name": "stderr",
     "output_type": "stream",
     "text": [
      "/Users/edwardtang/anaconda3/envs/fenics2018/lib/python3.7/site-packages/ffc/uflacs/analysis/dependencies.py:61: FutureWarning: Using a non-tuple sequence for multidimensional indexing is deprecated; use `arr[tuple(seq)]` instead of `arr[seq]`. In the future this will be interpreted as an array index, `arr[np.array(seq)]`, which will result either in an error or a different result.\n",
      "  active[targets] = 1\n"
     ]
    }
   ],
   "source": [
    "# Compute solution\n",
    "u = Function(V)\n",
    "solve(a == L, u, bcs)"
   ]
  },
  {
   "cell_type": "code",
   "execution_count": 1,
   "metadata": {},
   "outputs": [
    {
     "ename": "NameError",
     "evalue": "name 'plot' is not defined",
     "output_type": "error",
     "traceback": [
      "\u001b[0;31m---------------------------------------------------------------------------\u001b[0m",
      "\u001b[0;31mNameError\u001b[0m                                 Traceback (most recent call last)",
      "\u001b[0;32m<ipython-input-1-e95663134a7f>\u001b[0m in \u001b[0;36m<module>\u001b[0;34m\u001b[0m\n\u001b[0;32m----> 1\u001b[0;31m \u001b[0mplot\u001b[0m\u001b[0;34m(\u001b[0m\u001b[0mu\u001b[0m\u001b[0;34m)\u001b[0m\u001b[0;34m\u001b[0m\u001b[0;34m\u001b[0m\u001b[0m\n\u001b[0m",
      "\u001b[0;31mNameError\u001b[0m: name 'plot' is not defined"
     ]
    }
   ],
   "source": [
    "plot(u)"
   ]
  },
  {
   "cell_type": "code",
   "execution_count": 8,
   "metadata": {},
   "outputs": [],
   "source": [
    "vtkfile = File(\"poisson/firstTestFEM.pvd\")\n",
    "vtkfile << u"
   ]
  },
  {
   "cell_type": "code",
   "execution_count": 9,
   "metadata": {},
   "outputs": [],
   "source": [
    "# Compute error in L2 norm\n",
    "error_L2 = errornorm(u_D, u, \"L2\")\n",
    "\n",
    "# Compute maximum error at vertices\n",
    "vertex_values_u_D = u_D.compute_vertex_values(mesh)\n",
    "vertex_values_u = u.compute_vertex_values(mesh)\n",
    "\n",
    "error_max = np.max(np.abs(vertex_values_u_D - vertex_values_u))\n"
   ]
  },
  {
   "cell_type": "code",
   "execution_count": 10,
   "metadata": {},
   "outputs": [
    {
     "name": "stdout",
     "output_type": "stream",
     "text": [
      "error_L2 = 2.1300695253634194e-10\n",
      "error_max = 4.604983061540224e-12\n"
     ]
    }
   ],
   "source": [
    "# Print errors\n",
    "print(\"error_L2 =\", error_L2)\n",
    "print(\"error_max =\", error_max)"
   ]
  },
  {
   "cell_type": "code",
   "execution_count": null,
   "metadata": {},
   "outputs": [],
   "source": []
  },
  {
   "cell_type": "code",
   "execution_count": null,
   "metadata": {},
   "outputs": [],
   "source": []
  },
  {
   "cell_type": "code",
   "execution_count": null,
   "metadata": {},
   "outputs": [],
   "source": []
  },
  {
   "cell_type": "code",
   "execution_count": null,
   "metadata": {},
   "outputs": [],
   "source": []
  }
 ],
 "metadata": {
  "kernelspec": {
   "display_name": "firstEnv",
   "language": "python",
   "name": "firstenv"
  },
  "language_info": {
   "codemirror_mode": {
    "name": "ipython",
    "version": 3
   },
   "file_extension": ".py",
   "mimetype": "text/x-python",
   "name": "python",
   "nbconvert_exporter": "python",
   "pygments_lexer": "ipython3",
   "version": "3.7.9"
  }
 },
 "nbformat": 4,
 "nbformat_minor": 4
}
