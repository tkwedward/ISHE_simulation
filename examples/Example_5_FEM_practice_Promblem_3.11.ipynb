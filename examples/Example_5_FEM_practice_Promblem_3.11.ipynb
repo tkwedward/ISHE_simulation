{
 "cells": [
  {
   "cell_type": "markdown",
   "metadata": {},
   "source": [
    "# From Problem 3.11 of A First Course in Finite Element"
   ]
  },
  {
   "cell_type": "code",
   "execution_count": 12,
   "metadata": {},
   "outputs": [],
   "source": [
    "from fenics import *\n",
    "from mshr import *\n",
    "import numpy as np\n",
    "import matplotlib.pyplot as plt"
   ]
  },
  {
   "cell_type": "code",
   "execution_count": 13,
   "metadata": {},
   "outputs": [],
   "source": [
    "mesh = IntervalMesh(200, 0, 1)"
   ]
  },
  {
   "cell_type": "code",
   "execution_count": 14,
   "metadata": {},
   "outputs": [],
   "source": [
    "# Define boundary condition\n",
    "V = FunctionSpace(mesh, \"P\", 2)\n",
    "f = Expression(\"2 * x[0] * x[0]\", degree=1)\n",
    "\n",
    "u_L = Constant(1)\n",
    "u_R = Constant(-2)\n",
    "\n",
    "def boundary_L(x, on_boundary):\n",
    "    tol = 1E-14\n",
    "    return on_boundary and near(x[0], 0, tol)\n",
    "\n",
    "def boundary_R(x, on_boundary):\n",
    "    tol = 1E-14\n",
    "    return on_boundary and near(x[0], 1, tol)\n",
    "\n",
    "bc_L = DirichletBC(V, u_L, boundary_L)\n",
    "bc_R = DirichletBC(V, u_R, boundary_R)\n",
    "\n",
    "bcs = [bc_L, bc_R]"
   ]
  },
  {
   "cell_type": "code",
   "execution_count": 15,
   "metadata": {},
   "outputs": [],
   "source": [
    "# Define variational problem\n",
    "u = TrialFunction(V)\n",
    "v = TestFunction(V)\n",
    "a = (dot(grad(v), grad(u)) + v * u)*dx\n",
    "L = f*v*dx"
   ]
  },
  {
   "cell_type": "code",
   "execution_count": 16,
   "metadata": {},
   "outputs": [],
   "source": [
    "# Compute solution\n",
    "u = Function(V)\n",
    "solve(a == L, u, bcs)"
   ]
  },
  {
   "cell_type": "code",
   "execution_count": 17,
   "metadata": {},
   "outputs": [
    {
     "data": {
      "text/plain": [
       "[<matplotlib.lines.Line2D at 0x7f84fae04450>]"
      ]
     },
     "execution_count": 17,
     "metadata": {},
     "output_type": "execute_result"
    },
    {
     "data": {
      "image/png": "[encoded data removed]",
      "text/plain": [
       "<Figure size 432x288 with 1 Axes>"
      ]
     },
     "metadata": {
      "needs_background": "light"
     },
     "output_type": "display_data"
    }
   ],
   "source": [
    "plot(u)"
   ]
  },
  {
   "cell_type": "code",
   "execution_count": 31,
   "metadata": {},
   "outputs": [],
   "source": [
    "vtkfile = File(\"poisson/Example_5_FEM_practice_Promblem_3.11.pvd\")\n",
    "vtkfile << u"
   ]
  },
  {
   "cell_type": "code",
   "execution_count": 9,
   "metadata": {},
   "outputs": [],
   "source": [
    "# Compute error in L2 norm\n",
    "\n",
    "\n",
    "# Compute maximum error at vertices\n",
    "vertex_values_u = u.compute_vertex_values(mesh)\n"
   ]
  },
  {
   "cell_type": "code",
   "execution_count": 10,
   "metadata": {},
   "outputs": [
    {
     "name": "stdout",
     "output_type": "stream",
     "text": [
      "[ 1.          0.98567126  0.97136717  0.95708735  0.94283145  0.9285991\n",
      "  0.91438993  0.90020357  0.88603966  0.87189782  0.85777768  0.84367886\n",
      "  0.82960097  0.81554365  0.8015065   0.78748914  0.77349119  0.75951226\n",
      "  0.74555195  0.73160988  0.71768564  0.70377885  0.6898891   0.67601599\n",
      "  0.66215912  0.64831809  0.63449248  0.62068188  0.6068859   0.5931041\n",
      "  0.57933608  0.56558142  0.5518397   0.53811049  0.52439337  0.51068792\n",
      "  0.4969937   0.48331029  0.46963725  0.45597414  0.44232053  0.42867598\n",
      "  0.41504005  0.40141228  0.38779224  0.37417947  0.36057353  0.34697396\n",
      "  0.33338029  0.31979208  0.30620887  0.29263018  0.27905556  0.26548454\n",
      "  0.25191664  0.23835139  0.22478832  0.21122695  0.1976668   0.18410738\n",
      "  0.17054822  0.15698882  0.14342869  0.12986734  0.11630428  0.102739\n",
      "  0.08917101  0.07559981  0.06202488  0.04844573  0.03486183  0.02127268\n",
      "  0.00767776 -0.00592345 -0.01953147 -0.03314682 -0.04677004 -0.06040164\n",
      " -0.07404216 -0.08769214 -0.10135212 -0.11502263 -0.12870421 -0.14239742\n",
      " -0.15610281 -0.16982091 -0.18355229 -0.19729751 -0.21105712 -0.22483168\n",
      " -0.23862177 -0.25242795 -0.26625079 -0.28009087 -0.29394877 -0.30782505\n",
      " -0.32172032 -0.33563515 -0.34957013 -0.36352585 -0.37750292 -0.39150192\n",
      " -0.40552346 -0.41956815 -0.43363659 -0.44772939 -0.46184716 -0.47599052\n",
      " -0.4901601  -0.50435651 -0.51858038 -0.53283235 -0.54711303 -0.56142307\n",
      " -0.57576311 -0.59013379 -0.60453576 -0.61896965 -0.63343614 -0.64793586\n",
      " -0.66246949 -0.67703768 -0.69164109 -0.70628041 -0.72095629 -0.73566941\n",
      " -0.75042046 -0.76521012 -0.78003906 -0.79490799 -0.80981759 -0.82476857\n",
      " -0.83976161 -0.85479743 -0.86987673 -0.88500023 -0.90016863 -0.91538265\n",
      " -0.93064302 -0.94595047 -0.96130571 -0.97670949 -0.99216253 -1.00766559\n",
      " -1.0232194  -1.03882471 -1.05448227 -1.07019284 -1.08595717 -1.10177604\n",
      " -1.1176502  -1.13358043 -1.1495675  -1.16561219 -1.18171528 -1.19787757\n",
      " -1.21409982 -1.23038286 -1.24672746 -1.26313444 -1.2796046  -1.29613874\n",
      " -1.3127377  -1.32940227 -1.3461333  -1.3629316  -1.379798   -1.39673334\n",
      " -1.41373847 -1.43081422 -1.44796144 -1.46518098 -1.48247371 -1.49984048\n",
      " -1.51728215 -1.53479961 -1.55239371 -1.57006535 -1.5878154  -1.60564475\n",
      " -1.62355429 -1.64154493 -1.65961755 -1.67777307 -1.6960124  -1.71433644\n",
      " -1.73274613 -1.75124238 -1.76982612 -1.78849829 -1.80725983 -1.82611167\n",
      " -1.84505477 -1.86409007 -1.88321854 -1.90244113 -1.92175882 -1.94117257\n",
      " -1.96068336 -1.98029218 -2.        ]\n"
     ]
    }
   ],
   "source": [
    "print(vertex_values_u)"
   ]
  },
  {
   "cell_type": "code",
   "execution_count": null,
   "metadata": {},
   "outputs": [],
   "source": []
  }
 ],
 "metadata": {
  "kernelspec": {
   "display_name": "firstEnv",
   "language": "python",
   "name": "firstenv"
  },
  "language_info": {
   "codemirror_mode": {
    "name": "ipython",
    "version": 3
   },
   "file_extension": ".py",
   "mimetype": "text/x-python",
   "name": "python",
   "nbconvert_exporter": "python",
   "pygments_lexer": "ipython3",
   "version": "3.7.9"
  }
 },
 "nbformat": 4,
 "nbformat_minor": 4
}
