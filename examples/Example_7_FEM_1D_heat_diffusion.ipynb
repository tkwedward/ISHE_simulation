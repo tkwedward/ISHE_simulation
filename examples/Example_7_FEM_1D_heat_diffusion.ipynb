{
 "cells": [
  {
   "cell_type": "code",
   "execution_count": 1,
   "metadata": {},
   "outputs": [],
   "source": [
    "# Problem 5.1, P.123 of A first course of FEM"
   ]
  },
  {
   "cell_type": "code",
   "execution_count": 1,
   "metadata": {},
   "outputs": [],
   "source": [
    "from fenics import *\n",
    "import numpy as np"
   ]
  },
  {
   "cell_type": "code",
   "execution_count": 2,
   "metadata": {},
   "outputs": [],
   "source": [
    "# Create mesh and define function space\n",
    "# IntervalMesh(nx, a, b)\n",
    "# nx (int) The number of cells, a (float) The minimum point (inclusive), b (float) The maximum point (inclusive).\n",
    "mesh = IntervalMesh(100, 0, 20)"
   ]
  },
  {
   "cell_type": "code",
   "execution_count": null,
   "metadata": {},
   "outputs": [],
   "source": []
  },
  {
   "cell_type": "code",
   "execution_count": 3,
   "metadata": {},
   "outputs": [],
   "source": [
    "V = FunctionSpace(mesh, \"P\", 1)\n",
    "f = Expression(\"20\", degree=0)\n",
    "u_D = Expression(\"-10 * pow(x[0], 2) + 400 * x[0]\", degree=2)\n",
    "u_L = Constant(0)\n",
    "\n",
    "def boundary(x, on_boundary):\n",
    "    tol = 1E-14\n",
    "    if on_boundary:\n",
    "        if near(x[0], u_L, tol):\n",
    "            return True\n",
    "        else:\n",
    "            return False\n",
    "    else:\n",
    "        return False\n",
    "\n",
    "bc = DirichletBC(V, u_L, boundary)"
   ]
  },
  {
   "cell_type": "code",
   "execution_count": 4,
   "metadata": {},
   "outputs": [],
   "source": [
    "# Define variational problem\n",
    "u = TrialFunction(V)\n",
    "v = TestFunction(V)\n",
    "a = dot(grad(v), grad(u))*dx\n",
    "L = v * f * dx"
   ]
  },
  {
   "cell_type": "code",
   "execution_count": 5,
   "metadata": {},
   "outputs": [],
   "source": [
    "# Compute solution\n",
    "u = Function(V)\n",
    "solve(a == L, u, bc)"
   ]
  },
  {
   "cell_type": "code",
   "execution_count": 6,
   "metadata": {},
   "outputs": [
    {
     "data": {
      "text/plain": [
       "[<matplotlib.lines.Line2D at 0x7f80c5c7b490>]"
      ]
     },
     "execution_count": 6,
     "metadata": {},
     "output_type": "execute_result"
    },
    {
     "data": {
      "image/png": "[encoded data removed]",
      "text/plain": [
       "<Figure size 432x288 with 1 Axes>"
      ]
     },
     "metadata": {
      "needs_background": "light"
     },
     "output_type": "display_data"
    }
   ],
   "source": [
    "plot(u)"
   ]
  },
  {
   "cell_type": "code",
   "execution_count": 7,
   "metadata": {},
   "outputs": [
    {
     "name": "stdout",
     "output_type": "stream",
     "text": [
      "error_L2 = 0.3265986342656266\n",
      "error_max = 6.557456799782813e-10\n"
     ]
    }
   ],
   "source": [
    "# Compute error in L2 norm\n",
    "error_L2 = errornorm(u_D, u, \"L2\")\n",
    "\n",
    "# Compute maximum error at vertices\n",
    "vertex_values_u_D = u_D.compute_vertex_values(mesh)\n",
    "vertex_values_u = u.compute_vertex_values(mesh)\n",
    "\n",
    "error_max = np.max(np.abs(vertex_values_u_D - vertex_values_u))\n",
    "\n",
    "# Print errors\n",
    "print(\"error_L2 =\", error_L2)\n",
    "print(\"error_max =\", error_max)"
   ]
  },
  {
   "cell_type": "code",
   "execution_count": 8,
   "metadata": {},
   "outputs": [
    {
     "data": {
      "text/plain": [
       "array([   0. ,   79.6,  158.4,  236.4,  313.6,  390. ,  465.6,  540.4,\n",
       "        614.4,  687.6,  760. ,  831.6,  902.4,  972.4, 1041.6, 1110. ,\n",
       "       1177.6, 1244.4, 1310.4, 1375.6, 1440. , 1503.6, 1566.4, 1628.4,\n",
       "       1689.6, 1750. , 1809.6, 1868.4, 1926.4, 1983.6, 2040. , 2095.6,\n",
       "       2150.4, 2204.4, 2257.6, 2310. , 2361.6, 2412.4, 2462.4, 2511.6,\n",
       "       2560. , 2607.6, 2654.4, 2700.4, 2745.6, 2790. , 2833.6, 2876.4,\n",
       "       2918.4, 2959.6, 3000. , 3039.6, 3078.4, 3116.4, 3153.6, 3190. ,\n",
       "       3225.6, 3260.4, 3294.4, 3327.6, 3360. , 3391.6, 3422.4, 3452.4,\n",
       "       3481.6, 3510. , 3537.6, 3564.4, 3590.4, 3615.6, 3640. , 3663.6,\n",
       "       3686.4, 3708.4, 3729.6, 3750. , 3769.6, 3788.4, 3806.4, 3823.6,\n",
       "       3840. , 3855.6, 3870.4, 3884.4, 3897.6, 3910. , 3921.6, 3932.4,\n",
       "       3942.4, 3951.6, 3960. , 3967.6, 3974.4, 3980.4, 3985.6, 3990. ,\n",
       "       3993.6, 3996.4, 3998.4, 3999.6, 4000. ])"
      ]
     },
     "execution_count": 8,
     "metadata": {},
     "output_type": "execute_result"
    }
   ],
   "source": [
    "vertex_values_u_D"
   ]
  },
  {
   "cell_type": "code",
   "execution_count": 10,
   "metadata": {
    "scrolled": true
   },
   "outputs": [
    {
     "data": {
      "text/plain": [
       "array([ 0.00000000e+00, -1.41966439e-11, -2.83932877e-11, -4.26609859e-11,\n",
       "       -5.68434189e-11, -7.09974302e-11, -8.51514415e-11, -9.92486093e-11,\n",
       "       -1.13232090e-10, -1.27442945e-10, -1.41426426e-10, -1.55637281e-10,\n",
       "       -1.69507075e-10, -1.83263182e-10, -1.97132977e-10, -2.10548023e-10,\n",
       "       -2.23963070e-10, -2.37378117e-10, -2.50111043e-10, -2.62616595e-10,\n",
       "       -2.75122147e-10, -2.88082447e-10, -3.00815373e-10, -3.13320925e-10,\n",
       "       -3.24689609e-10, -3.36513040e-10, -3.47881723e-10, -3.59250407e-10,\n",
       "       -3.70391717e-10, -3.80168785e-10, -3.89945853e-10, -3.99722921e-10,\n",
       "       -4.09727363e-10, -4.18822310e-10, -4.27007762e-10, -4.35193215e-10,\n",
       "       -4.43378667e-10, -4.52018867e-10, -4.59749572e-10, -4.65661287e-10,\n",
       "       -4.72482498e-10, -4.78394213e-10, -4.84760676e-10, -4.91581886e-10,\n",
       "       -4.97493602e-10, -5.03405317e-10, -5.08862286e-10, -5.13864507e-10,\n",
       "       -5.19776222e-10, -5.24323696e-10, -5.28871169e-10, -5.32963895e-10,\n",
       "       -5.37966116e-10, -5.42968337e-10, -5.47515810e-10, -5.52518031e-10,\n",
       "       -5.58429747e-10, -5.62977220e-10, -5.68888936e-10, -5.73891157e-10,\n",
       "       -5.79348125e-10, -5.84350346e-10, -5.87533577e-10, -5.92081051e-10,\n",
       "       -5.95264282e-10, -5.99811756e-10, -6.03904482e-10, -6.07542461e-10,\n",
       "       -6.11635187e-10, -6.14818418e-10, -6.18911145e-10, -6.23003871e-10,\n",
       "       -6.25732355e-10, -6.28915586e-10, -6.31644070e-10, -6.33917807e-10,\n",
       "       -6.35282049e-10, -6.37101039e-10, -6.39374775e-10, -6.40284270e-10,\n",
       "       -6.42103259e-10, -6.43012754e-10, -6.43467502e-10, -6.47105480e-10,\n",
       "       -6.48014975e-10, -6.48924470e-10, -6.50288712e-10, -6.50288712e-10,\n",
       "       -6.51198206e-10, -6.50743459e-10, -6.52107701e-10, -6.53471943e-10,\n",
       "       -6.53017196e-10, -6.53926691e-10, -6.53017196e-10, -6.54381438e-10,\n",
       "       -6.55745680e-10, -6.54836185e-10, -6.55290933e-10, -6.55290933e-10,\n",
       "       -6.55290933e-10])"
      ]
     },
     "execution_count": 10,
     "metadata": {},
     "output_type": "execute_result"
    }
   ],
   "source": [
    "vertex_values_u - vertex_values_u_D"
   ]
  },
  {
   "cell_type": "code",
   "execution_count": null,
   "metadata": {},
   "outputs": [],
   "source": []
  }
 ],
 "metadata": {
  "kernelspec": {
   "display_name": "firstEnv",
   "language": "python",
   "name": "firstenv"
  },
  "language_info": {
   "codemirror_mode": {
    "name": "ipython",
    "version": 3
   },
   "file_extension": ".py",
   "mimetype": "text/x-python",
   "name": "python",
   "nbconvert_exporter": "python",
   "pygments_lexer": "ipython3",
   "version": "3.7.9"
  }
 },
 "nbformat": 4,
 "nbformat_minor": 4
}
